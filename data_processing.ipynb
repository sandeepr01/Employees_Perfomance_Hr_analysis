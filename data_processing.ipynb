{
 "cells": [
  {
   "cell_type": "markdown",
   "id": "ce9e2c03",
   "metadata": {},
   "source": [
    "## DATA SCIENCE PROJECT ON  INX FUTURE INC EMPLOYEE PERFORMANCE ANALYSIS\n",
    "\n",
    "\n",
    "\n",
    "## BUISNESS CASE: BASED ON GIVEN FEATURE OF DATASET WE NEED TO PREDICT THE PERFOMANCE RATING OF EMPLOYEE\n"
   ]
  },
  {
   "cell_type": "markdown",
   "id": "3abdfd8b",
   "metadata": {},
   "source": [
    "### DATA PRE-PROCESSING & FEATURE SELECTION:\n",
    "\n",
    "#### DATA PRE-PROCESSING SUMMARY:\n",
    "* Ckeck Missing Value\n",
    "* Convert categorical to numerical\n",
    "* Check outliers & Impute outliers\n",
    "* Feature transformation\n",
    "* Feature scaling\n",
    "\n",
    "\n",
    "#### FEATURE SELECTION SUMMARY:\n",
    "* Drop unique & Constant Column\n",
    "* Check correlation with heatmap & Remove highly correlated feature\n",
    "* Check Duplicates \n",
    "* Principle component analysis\n",
    "* Save pre-process data"
   ]
  },
  {
   "cell_type": "markdown",
   "id": "c3868d25",
   "metadata": {},
   "source": [
    "#### IMPORT NECESSARY LIBRARY"
   ]
  },
  {
   "cell_type": "code",
   "execution_count": 67,
   "id": "16a8a24b",
   "metadata": {},
   "outputs": [],
   "source": [
    "import pandas as pd\n",
    "import numpy as np\n",
    "import pyodbc\n",
    "import matplotlib.pyplot as plt\n",
    "%matplotlib inline\n",
    "import seaborn as sns\n",
    "from scipy import stats\n",
    "import pylab\n",
    "import warnings # Used to supressed the warnings\n",
    "warnings.filterwarnings('ignore')"
   ]
  },
  {
   "cell_type": "markdown",
   "id": "0fab4af3",
   "metadata": {},
   "source": [
    "#### IMPORT DATA FROM SQL SERVER USING PYODBC"
   ]
  },
  {
   "cell_type": "code",
   "execution_count": 68,
   "id": "433321f4",
   "metadata": {},
   "outputs": [],
   "source": [
    "# Create Connection String and Connect by using Pyodbc\n",
    "cnxn_str = ('Driver={SQL Server};' \n",
    "            \"Server={LAPTOP-DMS3CURR};\"\n",
    "            \"Database={Employee};\"\n",
    "            \"Trusted_connection=yes;\")\n",
    "\n",
    "cnn = pyodbc.connect(cnxn_str)"
   ]
  },
  {
   "cell_type": "code",
   "execution_count": 69,
   "id": "ae631609",
   "metadata": {},
   "outputs": [
    {
     "data": {
      "text/html": [
       "<div>\n",
       "<style scoped>\n",
       "    .dataframe tbody tr th:only-of-type {\n",
       "        vertical-align: middle;\n",
       "    }\n",
       "\n",
       "    .dataframe tbody tr th {\n",
       "        vertical-align: top;\n",
       "    }\n",
       "\n",
       "    .dataframe thead th {\n",
       "        text-align: right;\n",
       "    }\n",
       "</style>\n",
       "<table border=\"1\" class=\"dataframe\">\n",
       "  <thead>\n",
       "    <tr style=\"text-align: right;\">\n",
       "      <th></th>\n",
       "      <th>EmpNumber</th>\n",
       "      <th>Age</th>\n",
       "      <th>Gender</th>\n",
       "      <th>EducationBackground</th>\n",
       "      <th>MaritalStatus</th>\n",
       "      <th>EmpDepartment</th>\n",
       "      <th>EmpJobRole</th>\n",
       "      <th>BusinessTravelFrequency</th>\n",
       "      <th>DistanceFromHome</th>\n",
       "      <th>EmpEducationLevel</th>\n",
       "      <th>...</th>\n",
       "      <th>EmpRelationshipSatisfaction</th>\n",
       "      <th>TotalWorkExperienceInYears</th>\n",
       "      <th>TrainingTimesLastYear</th>\n",
       "      <th>EmpWorkLifeBalance</th>\n",
       "      <th>ExperienceYearsAtThisCompany</th>\n",
       "      <th>ExperienceYearsInCurrentRole</th>\n",
       "      <th>YearsSinceLastPromotion</th>\n",
       "      <th>YearsWithCurrManager</th>\n",
       "      <th>Attrition</th>\n",
       "      <th>PerformanceRating</th>\n",
       "    </tr>\n",
       "  </thead>\n",
       "  <tbody>\n",
       "    <tr>\n",
       "      <th>0</th>\n",
       "      <td>1001000.0</td>\n",
       "      <td>32</td>\n",
       "      <td>Male</td>\n",
       "      <td>Marketing</td>\n",
       "      <td>Single</td>\n",
       "      <td>Sales</td>\n",
       "      <td>Sales Executive</td>\n",
       "      <td>Travel_Rarely</td>\n",
       "      <td>10</td>\n",
       "      <td>3</td>\n",
       "      <td>...</td>\n",
       "      <td>4</td>\n",
       "      <td>10</td>\n",
       "      <td>2</td>\n",
       "      <td>2</td>\n",
       "      <td>10</td>\n",
       "      <td>7</td>\n",
       "      <td>0</td>\n",
       "      <td>8</td>\n",
       "      <td>False</td>\n",
       "      <td>3</td>\n",
       "    </tr>\n",
       "    <tr>\n",
       "      <th>1</th>\n",
       "      <td>1001006.0</td>\n",
       "      <td>47</td>\n",
       "      <td>Male</td>\n",
       "      <td>Marketing</td>\n",
       "      <td>Single</td>\n",
       "      <td>Sales</td>\n",
       "      <td>Sales Executive</td>\n",
       "      <td>Travel_Rarely</td>\n",
       "      <td>14</td>\n",
       "      <td>4</td>\n",
       "      <td>...</td>\n",
       "      <td>4</td>\n",
       "      <td>20</td>\n",
       "      <td>2</td>\n",
       "      <td>3</td>\n",
       "      <td>7</td>\n",
       "      <td>7</td>\n",
       "      <td>1</td>\n",
       "      <td>7</td>\n",
       "      <td>False</td>\n",
       "      <td>3</td>\n",
       "    </tr>\n",
       "    <tr>\n",
       "      <th>2</th>\n",
       "      <td>1001007.0</td>\n",
       "      <td>40</td>\n",
       "      <td>Male</td>\n",
       "      <td>Life Sciences</td>\n",
       "      <td>Married</td>\n",
       "      <td>Sales</td>\n",
       "      <td>Sales Executive</td>\n",
       "      <td>Travel_Frequently</td>\n",
       "      <td>5</td>\n",
       "      <td>4</td>\n",
       "      <td>...</td>\n",
       "      <td>3</td>\n",
       "      <td>20</td>\n",
       "      <td>2</td>\n",
       "      <td>3</td>\n",
       "      <td>18</td>\n",
       "      <td>13</td>\n",
       "      <td>1</td>\n",
       "      <td>12</td>\n",
       "      <td>False</td>\n",
       "      <td>4</td>\n",
       "    </tr>\n",
       "    <tr>\n",
       "      <th>3</th>\n",
       "      <td>1001009.0</td>\n",
       "      <td>41</td>\n",
       "      <td>Male</td>\n",
       "      <td>Human Resources</td>\n",
       "      <td>Divorced</td>\n",
       "      <td>Human Resources</td>\n",
       "      <td>Manager</td>\n",
       "      <td>Travel_Rarely</td>\n",
       "      <td>10</td>\n",
       "      <td>4</td>\n",
       "      <td>...</td>\n",
       "      <td>2</td>\n",
       "      <td>23</td>\n",
       "      <td>2</td>\n",
       "      <td>2</td>\n",
       "      <td>21</td>\n",
       "      <td>6</td>\n",
       "      <td>12</td>\n",
       "      <td>6</td>\n",
       "      <td>False</td>\n",
       "      <td>3</td>\n",
       "    </tr>\n",
       "    <tr>\n",
       "      <th>4</th>\n",
       "      <td>1001010.0</td>\n",
       "      <td>60</td>\n",
       "      <td>Male</td>\n",
       "      <td>Marketing</td>\n",
       "      <td>Single</td>\n",
       "      <td>Sales</td>\n",
       "      <td>Sales Executive</td>\n",
       "      <td>Travel_Rarely</td>\n",
       "      <td>16</td>\n",
       "      <td>4</td>\n",
       "      <td>...</td>\n",
       "      <td>4</td>\n",
       "      <td>10</td>\n",
       "      <td>1</td>\n",
       "      <td>3</td>\n",
       "      <td>2</td>\n",
       "      <td>2</td>\n",
       "      <td>2</td>\n",
       "      <td>2</td>\n",
       "      <td>False</td>\n",
       "      <td>3</td>\n",
       "    </tr>\n",
       "  </tbody>\n",
       "</table>\n",
       "<p>5 rows × 28 columns</p>\n",
       "</div>"
      ],
      "text/plain": [
       "   EmpNumber  Age Gender EducationBackground MaritalStatus    EmpDepartment  \\\n",
       "0  1001000.0   32   Male           Marketing        Single            Sales   \n",
       "1  1001006.0   47   Male           Marketing        Single            Sales   \n",
       "2  1001007.0   40   Male       Life Sciences       Married            Sales   \n",
       "3  1001009.0   41   Male     Human Resources      Divorced  Human Resources   \n",
       "4  1001010.0   60   Male           Marketing        Single            Sales   \n",
       "\n",
       "        EmpJobRole BusinessTravelFrequency  DistanceFromHome  \\\n",
       "0  Sales Executive           Travel_Rarely                10   \n",
       "1  Sales Executive           Travel_Rarely                14   \n",
       "2  Sales Executive       Travel_Frequently                 5   \n",
       "3          Manager           Travel_Rarely                10   \n",
       "4  Sales Executive           Travel_Rarely                16   \n",
       "\n",
       "   EmpEducationLevel  ...  EmpRelationshipSatisfaction  \\\n",
       "0                  3  ...                            4   \n",
       "1                  4  ...                            4   \n",
       "2                  4  ...                            3   \n",
       "3                  4  ...                            2   \n",
       "4                  4  ...                            4   \n",
       "\n",
       "   TotalWorkExperienceInYears  TrainingTimesLastYear  EmpWorkLifeBalance  \\\n",
       "0                          10                      2                   2   \n",
       "1                          20                      2                   3   \n",
       "2                          20                      2                   3   \n",
       "3                          23                      2                   2   \n",
       "4                          10                      1                   3   \n",
       "\n",
       "   ExperienceYearsAtThisCompany  ExperienceYearsInCurrentRole  \\\n",
       "0                            10                             7   \n",
       "1                             7                             7   \n",
       "2                            18                            13   \n",
       "3                            21                             6   \n",
       "4                             2                             2   \n",
       "\n",
       "   YearsSinceLastPromotion  YearsWithCurrManager  Attrition  PerformanceRating  \n",
       "0                        0                     8      False                  3  \n",
       "1                        1                     7      False                  3  \n",
       "2                        1                    12      False                  4  \n",
       "3                       12                     6      False                  3  \n",
       "4                        2                     2      False                  3  \n",
       "\n",
       "[5 rows x 28 columns]"
      ]
     },
     "execution_count": 69,
     "metadata": {},
     "output_type": "execute_result"
    }
   ],
   "source": [
    "# Run SQL and load dataset          \n",
    "sql_query = pd.read_sql('SELECT * FROM Employee_Performance', cnn)\n",
    "\n",
    "# convert into dataframe\n",
    "data = pd.DataFrame(sql_query)\n",
    "\n",
    "\n",
    "# Initial data exploration\n",
    "data.head()"
   ]
  },
  {
   "cell_type": "markdown",
   "id": "bb152ef7",
   "metadata": {},
   "source": [
    "### CHECK MISSING VALUE:"
   ]
  },
  {
   "cell_type": "code",
   "execution_count": 70,
   "id": "7e47f44f",
   "metadata": {},
   "outputs": [
    {
     "data": {
      "text/plain": [
       "EmpNumber                       0\n",
       "Age                             0\n",
       "Gender                          0\n",
       "EducationBackground             0\n",
       "MaritalStatus                   0\n",
       "EmpDepartment                   0\n",
       "EmpJobRole                      0\n",
       "BusinessTravelFrequency         0\n",
       "DistanceFromHome                0\n",
       "EmpEducationLevel               0\n",
       "EmpEnvironmentSatisfaction      0\n",
       "EmpHourlyRate                   0\n",
       "EmpJobInvolvement               0\n",
       "EmpJobLevel                     0\n",
       "EmpJobSatisfaction              0\n",
       "NumCompaniesWorked              0\n",
       "OverTime                        0\n",
       "EmpLastSalaryHikePercent        0\n",
       "EmpRelationshipSatisfaction     0\n",
       "TotalWorkExperienceInYears      0\n",
       "TrainingTimesLastYear           0\n",
       "EmpWorkLifeBalance              0\n",
       "ExperienceYearsAtThisCompany    0\n",
       "ExperienceYearsInCurrentRole    0\n",
       "YearsSinceLastPromotion         0\n",
       "YearsWithCurrManager            0\n",
       "Attrition                       0\n",
       "PerformanceRating               0\n",
       "dtype: int64"
      ]
     },
     "execution_count": 70,
     "metadata": {},
     "output_type": "execute_result"
    }
   ],
   "source": [
    "data.isnull().sum()"
   ]
  },
  {
   "cell_type": "markdown",
   "id": "9e839fb9",
   "metadata": {},
   "source": [
    "* Their is no missing value present in the data."
   ]
  },
  {
   "cell_type": "markdown",
   "id": "68132aa4",
   "metadata": {},
   "source": [
    "### CONVERT CATEGORICAL TO NUMERICAL"
   ]
  },
  {
   "cell_type": "code",
   "execution_count": 71,
   "id": "17799336",
   "metadata": {},
   "outputs": [
    {
     "data": {
      "text/plain": [
       "['Gender',\n",
       " 'EducationBackground',\n",
       " 'MaritalStatus',\n",
       " 'EmpDepartment',\n",
       " 'EmpJobRole',\n",
       " 'BusinessTravelFrequency']"
      ]
     },
     "execution_count": 71,
     "metadata": {},
     "output_type": "execute_result"
    }
   ],
   "source": [
    "# Get all categorical feature list\n",
    "list(data.select_dtypes('object'))"
   ]
  },
  {
   "cell_type": "markdown",
   "id": "599189cd",
   "metadata": {},
   "source": [
    "**Technique Used:**\n",
    "\n",
    "**1.Mannual Encoding:** Mannual encoding is a best techinque to handel categorical feature with the help of map function, map the labels based on frequency.\n",
    "\n",
    "**2.Frequency Encoding:** Frequency encoding is an encoding technique to transform an original categorical variable to a numerical variable by considering the frequency distribution of the data getting value counts."
   ]
  },
  {
   "cell_type": "markdown",
   "id": "f406a256",
   "metadata": {},
   "source": [
    "#### 1.Gender: "
   ]
  },
  {
   "cell_type": "code",
   "execution_count": 72,
   "id": "fa5e336c",
   "metadata": {},
   "outputs": [
    {
     "data": {
      "text/plain": [
       "Male      725\n",
       "Female    475\n",
       "Name: Gender, dtype: int64"
      ]
     },
     "execution_count": 72,
     "metadata": {},
     "output_type": "execute_result"
    }
   ],
   "source": [
    "# Get value counts of gender\n",
    "data.Gender.value_counts()"
   ]
  },
  {
   "cell_type": "code",
   "execution_count": 73,
   "id": "89781b0b",
   "metadata": {},
   "outputs": [],
   "source": [
    "# Use mannual encoding to map the labels\n",
    "data.Gender = data.Gender.map({'Male':1,'Female':0})"
   ]
  },
  {
   "cell_type": "markdown",
   "id": "35f8c818",
   "metadata": {},
   "source": [
    "* Map male with 1 and female with 0 "
   ]
  },
  {
   "cell_type": "markdown",
   "id": "e7e5f1bd",
   "metadata": {},
   "source": [
    "#### 2.Education Background"
   ]
  },
  {
   "cell_type": "code",
   "execution_count": 74,
   "id": "ed30e962",
   "metadata": {},
   "outputs": [
    {
     "data": {
      "text/plain": [
       "Life Sciences       492\n",
       "Medical             384\n",
       "Marketing           137\n",
       "Technical Degree    100\n",
       "Other                66\n",
       "Human Resources      21\n",
       "Name: EducationBackground, dtype: int64"
      ]
     },
     "execution_count": 74,
     "metadata": {},
     "output_type": "execute_result"
    }
   ],
   "source": [
    "# Get value counts of Education Background\n",
    "data.EducationBackground.value_counts()"
   ]
  },
  {
   "cell_type": "code",
   "execution_count": 75,
   "id": "f0928c3a",
   "metadata": {},
   "outputs": [],
   "source": [
    "# Use frequency encoding\n",
    "data.loc[data['EducationBackground']=='Life Sciences','EducationBackground']=5\n",
    "data.loc[data['EducationBackground']=='Medical','EducationBackground']=4\n",
    "data.loc[data['EducationBackground']=='Marketing','EducationBackground']=3\n",
    "data.loc[data['EducationBackground']=='Technical Degree','EducationBackground']=2\n",
    "data.loc[data['EducationBackground']=='Other','EducationBackground']=1\n",
    "data.loc[data['EducationBackground']=='Human Resources','EducationBackground']=0"
   ]
  },
  {
   "cell_type": "code",
   "execution_count": 76,
   "id": "1e23df76",
   "metadata": {},
   "outputs": [
    {
     "data": {
      "text/plain": [
       "5    492\n",
       "4    384\n",
       "3    137\n",
       "2    100\n",
       "1     66\n",
       "0     21\n",
       "Name: EducationBackground, dtype: int64"
      ]
     },
     "execution_count": 76,
     "metadata": {},
     "output_type": "execute_result"
    }
   ],
   "source": [
    "# Checking conversion happen or not\n",
    "data.EducationBackground.value_counts()"
   ]
  },
  {
   "cell_type": "markdown",
   "id": "6c6125e3",
   "metadata": {},
   "source": [
    "#### 3.Marital Status"
   ]
  },
  {
   "cell_type": "code",
   "execution_count": 77,
   "id": "840dd1b0",
   "metadata": {},
   "outputs": [
    {
     "data": {
      "text/plain": [
       "Married     548\n",
       "Single      384\n",
       "Divorced    268\n",
       "Name: MaritalStatus, dtype: int64"
      ]
     },
     "execution_count": 77,
     "metadata": {},
     "output_type": "execute_result"
    }
   ],
   "source": [
    "# Get the value counts of marital status\n",
    "data.MaritalStatus.value_counts()"
   ]
  },
  {
   "cell_type": "code",
   "execution_count": 78,
   "id": "7fcae3d7",
   "metadata": {},
   "outputs": [],
   "source": [
    "# Use mannual encoding\n",
    "data.MaritalStatus = data.MaritalStatus.map({'Married':2,'Single':1,'Divorced':0})"
   ]
  },
  {
   "cell_type": "code",
   "execution_count": 79,
   "id": "e5a91f2f",
   "metadata": {},
   "outputs": [
    {
     "data": {
      "text/plain": [
       "2    548\n",
       "1    384\n",
       "0    268\n",
       "Name: MaritalStatus, dtype: int64"
      ]
     },
     "execution_count": 79,
     "metadata": {},
     "output_type": "execute_result"
    }
   ],
   "source": [
    "# Check conversion happen or not\n",
    "data.MaritalStatus.value_counts()"
   ]
  },
  {
   "cell_type": "markdown",
   "id": "65b02ec4",
   "metadata": {},
   "source": [
    "#### 4.Employee Department"
   ]
  },
  {
   "cell_type": "code",
   "execution_count": 80,
   "id": "169f4a5f",
   "metadata": {},
   "outputs": [
    {
     "data": {
      "text/plain": [
       "Sales                     373\n",
       "Development               361\n",
       "Research & Development    343\n",
       "Human Resources            54\n",
       "Finance                    49\n",
       "Data Science               20\n",
       "Name: EmpDepartment, dtype: int64"
      ]
     },
     "execution_count": 80,
     "metadata": {},
     "output_type": "execute_result"
    }
   ],
   "source": [
    "# Get the value counts of employee department \n",
    "data.EmpDepartment.value_counts()"
   ]
  },
  {
   "cell_type": "code",
   "execution_count": 81,
   "id": "23e6ca8d",
   "metadata": {},
   "outputs": [],
   "source": [
    "# Use Frequency encoding\n",
    "data.loc[data['EmpDepartment']=='Sales','EmpDepartment']=5\n",
    "data.loc[data['EmpDepartment']=='Development','EmpDepartment']=4\n",
    "data.loc[data['EmpDepartment']=='Research & Development','EmpDepartment']=3\n",
    "data.loc[data['EmpDepartment']=='Human Resources','EmpDepartment']=2\n",
    "data.loc[data['EmpDepartment']=='Finance','EmpDepartment']=1\n",
    "data.loc[data['EmpDepartment']=='Data Science','EmpDepartment']=0"
   ]
  },
  {
   "cell_type": "code",
   "execution_count": 82,
   "id": "ee1395fc",
   "metadata": {},
   "outputs": [
    {
     "data": {
      "text/plain": [
       "5    373\n",
       "4    361\n",
       "3    343\n",
       "2     54\n",
       "1     49\n",
       "0     20\n",
       "Name: EmpDepartment, dtype: int64"
      ]
     },
     "execution_count": 82,
     "metadata": {},
     "output_type": "execute_result"
    }
   ],
   "source": [
    "# Check conversion happen or not\n",
    "data.EmpDepartment.value_counts()"
   ]
  },
  {
   "cell_type": "markdown",
   "id": "8ff546ce",
   "metadata": {},
   "source": [
    "#### 5.Employee Job Role"
   ]
  },
  {
   "cell_type": "code",
   "execution_count": 83,
   "id": "2e4f00ea",
   "metadata": {},
   "outputs": [
    {
     "data": {
      "text/plain": [
       "Sales Executive              270\n",
       "Developer                    236\n",
       "Manager R&D                   94\n",
       "Research Scientist            77\n",
       "Sales Representative          69\n",
       "Laboratory Technician         64\n",
       "Senior Developer              52\n",
       "Manager                       51\n",
       "Finance Manager               49\n",
       "Human Resources               45\n",
       "Technical Lead                38\n",
       "Manufacturing Director        33\n",
       "Healthcare Representative     33\n",
       "Data Scientist                20\n",
       "Research Director             19\n",
       "Business Analyst              16\n",
       "Senior Manager R&D            15\n",
       "Delivery Manager              12\n",
       "Technical Architect            7\n",
       "Name: EmpJobRole, dtype: int64"
      ]
     },
     "execution_count": 83,
     "metadata": {},
     "output_type": "execute_result"
    }
   ],
   "source": [
    "# Getting the value counts of EmpJobRole\n",
    "data.EmpJobRole.value_counts()"
   ]
  },
  {
   "cell_type": "code",
   "execution_count": 84,
   "id": "f4838ca5",
   "metadata": {},
   "outputs": [],
   "source": [
    "# Use frequency encoding because feature contain a lots of label\n",
    "data.loc[data['EmpJobRole']=='Sales Executive','EmpJobRole']=18\n",
    "data.loc[data['EmpJobRole']=='Developer','EmpJobRole']=17\n",
    "data.loc[data['EmpJobRole']=='Manager R&D','EmpJobRole']=16\n",
    "data.loc[data['EmpJobRole']=='Research Scientist','EmpJobRole']=15\n",
    "data.loc[data['EmpJobRole']=='Sales Representative','EmpJobRole']=14\n",
    "data.loc[data['EmpJobRole']=='Laboratory Technician','EmpJobRole']=13\n",
    "data.loc[data['EmpJobRole']=='Senior Developer','EmpJobRole']=12\n",
    "data.loc[data['EmpJobRole']=='Manager','EmpJobRole']=11\n",
    "data.loc[data['EmpJobRole']=='Finance Manager','EmpJobRole']=10\n",
    "data.loc[data['EmpJobRole']=='Human Resources','EmpJobRole']=9\n",
    "data.loc[data['EmpJobRole']=='Technical Lead','EmpJobRole']=8\n",
    "data.loc[data['EmpJobRole']=='Manufacturing Director','EmpJobRole']=7\n",
    "data.loc[data['EmpJobRole']=='Healthcare Representative','EmpJobRole']=6\n",
    "data.loc[data['EmpJobRole']=='Data Scientist','EmpJobRole']=5\n",
    "data.loc[data['EmpJobRole']=='Research Director','EmpJobRole']=4\n",
    "data.loc[data['EmpJobRole']=='Business Analyst','EmpJobRole']=3\n",
    "data.loc[data['EmpJobRole']=='Senior Manager R&D','EmpJobRole']=2\n",
    "data.loc[data['EmpJobRole']=='Delivery Manager','EmpJobRole']=1\n",
    "data.loc[data['EmpJobRole']=='Technical Architect','EmpJobRole']=0"
   ]
  },
  {
   "cell_type": "code",
   "execution_count": 85,
   "id": "7a245487",
   "metadata": {},
   "outputs": [
    {
     "data": {
      "text/plain": [
       "18    270\n",
       "17    236\n",
       "16     94\n",
       "15     77\n",
       "14     69\n",
       "13     64\n",
       "12     52\n",
       "11     51\n",
       "10     49\n",
       "9      45\n",
       "8      38\n",
       "7      33\n",
       "6      33\n",
       "5      20\n",
       "4      19\n",
       "3      16\n",
       "2      15\n",
       "1      12\n",
       "0       7\n",
       "Name: EmpJobRole, dtype: int64"
      ]
     },
     "execution_count": 85,
     "metadata": {},
     "output_type": "execute_result"
    }
   ],
   "source": [
    "# Check conversion happen or not\n",
    "data.EmpJobRole.value_counts()"
   ]
  },
  {
   "cell_type": "markdown",
   "id": "f52ae898",
   "metadata": {},
   "source": [
    "#### 6.Business Travel Frequency:"
   ]
  },
  {
   "cell_type": "code",
   "execution_count": 86,
   "id": "9bcf1232",
   "metadata": {},
   "outputs": [
    {
     "data": {
      "text/plain": [
       "Travel_Rarely        846\n",
       "Travel_Frequently    222\n",
       "Non-Travel           132\n",
       "Name: BusinessTravelFrequency, dtype: int64"
      ]
     },
     "execution_count": 86,
     "metadata": {},
     "output_type": "execute_result"
    }
   ],
   "source": [
    "# Get the value count of buisness travel frequency\n",
    "data.BusinessTravelFrequency.value_counts()"
   ]
  },
  {
   "cell_type": "code",
   "execution_count": 87,
   "id": "7c8391d8",
   "metadata": {},
   "outputs": [],
   "source": [
    "# Use mannual encoding Because feature contain minimum label\n",
    "data.BusinessTravelFrequency = data.BusinessTravelFrequency.map({'Travel_Rarely':2,'Travel_Frequently':1,'Non-Travel':0})"
   ]
  },
  {
   "cell_type": "code",
   "execution_count": 88,
   "id": "04362092",
   "metadata": {},
   "outputs": [
    {
     "data": {
      "text/plain": [
       "2    846\n",
       "1    222\n",
       "0    132\n",
       "Name: BusinessTravelFrequency, dtype: int64"
      ]
     },
     "execution_count": 88,
     "metadata": {},
     "output_type": "execute_result"
    }
   ],
   "source": [
    "# Check conversion happen or not\n",
    "data.BusinessTravelFrequency.value_counts()"
   ]
  },
  {
   "cell_type": "markdown",
   "id": "84427d50",
   "metadata": {},
   "source": [
    "#### 7.Attrition:"
   ]
  },
  {
   "cell_type": "code",
   "execution_count": 89,
   "id": "113d2f3a",
   "metadata": {},
   "outputs": [],
   "source": [
    "data['Attrition'] = data['Attrition'].astype(int)"
   ]
  },
  {
   "cell_type": "markdown",
   "id": "0294b245",
   "metadata": {},
   "source": [
    "#### 8.Overtime:"
   ]
  },
  {
   "cell_type": "code",
   "execution_count": 91,
   "id": "77649b45",
   "metadata": {},
   "outputs": [],
   "source": [
    "data['OverTime'] = data['OverTime'].astype(int)"
   ]
  },
  {
   "cell_type": "code",
   "execution_count": 92,
   "id": "350f4e5d",
   "metadata": {
    "scrolled": true
   },
   "outputs": [
    {
     "data": {
      "text/html": [
       "<div>\n",
       "<style scoped>\n",
       "    .dataframe tbody tr th:only-of-type {\n",
       "        vertical-align: middle;\n",
       "    }\n",
       "\n",
       "    .dataframe tbody tr th {\n",
       "        vertical-align: top;\n",
       "    }\n",
       "\n",
       "    .dataframe thead th {\n",
       "        text-align: right;\n",
       "    }\n",
       "</style>\n",
       "<table border=\"1\" class=\"dataframe\">\n",
       "  <thead>\n",
       "    <tr style=\"text-align: right;\">\n",
       "      <th></th>\n",
       "      <th>EmpNumber</th>\n",
       "      <th>Age</th>\n",
       "      <th>Gender</th>\n",
       "      <th>EducationBackground</th>\n",
       "      <th>MaritalStatus</th>\n",
       "      <th>EmpDepartment</th>\n",
       "      <th>EmpJobRole</th>\n",
       "      <th>BusinessTravelFrequency</th>\n",
       "      <th>DistanceFromHome</th>\n",
       "      <th>EmpEducationLevel</th>\n",
       "      <th>...</th>\n",
       "      <th>EmpRelationshipSatisfaction</th>\n",
       "      <th>TotalWorkExperienceInYears</th>\n",
       "      <th>TrainingTimesLastYear</th>\n",
       "      <th>EmpWorkLifeBalance</th>\n",
       "      <th>ExperienceYearsAtThisCompany</th>\n",
       "      <th>ExperienceYearsInCurrentRole</th>\n",
       "      <th>YearsSinceLastPromotion</th>\n",
       "      <th>YearsWithCurrManager</th>\n",
       "      <th>Attrition</th>\n",
       "      <th>PerformanceRating</th>\n",
       "    </tr>\n",
       "  </thead>\n",
       "  <tbody>\n",
       "    <tr>\n",
       "      <th>0</th>\n",
       "      <td>1001000.0</td>\n",
       "      <td>32</td>\n",
       "      <td>1</td>\n",
       "      <td>3</td>\n",
       "      <td>1</td>\n",
       "      <td>5</td>\n",
       "      <td>18</td>\n",
       "      <td>2</td>\n",
       "      <td>10</td>\n",
       "      <td>3</td>\n",
       "      <td>...</td>\n",
       "      <td>4</td>\n",
       "      <td>10</td>\n",
       "      <td>2</td>\n",
       "      <td>2</td>\n",
       "      <td>10</td>\n",
       "      <td>7</td>\n",
       "      <td>0</td>\n",
       "      <td>8</td>\n",
       "      <td>0</td>\n",
       "      <td>3</td>\n",
       "    </tr>\n",
       "    <tr>\n",
       "      <th>1</th>\n",
       "      <td>1001006.0</td>\n",
       "      <td>47</td>\n",
       "      <td>1</td>\n",
       "      <td>3</td>\n",
       "      <td>1</td>\n",
       "      <td>5</td>\n",
       "      <td>18</td>\n",
       "      <td>2</td>\n",
       "      <td>14</td>\n",
       "      <td>4</td>\n",
       "      <td>...</td>\n",
       "      <td>4</td>\n",
       "      <td>20</td>\n",
       "      <td>2</td>\n",
       "      <td>3</td>\n",
       "      <td>7</td>\n",
       "      <td>7</td>\n",
       "      <td>1</td>\n",
       "      <td>7</td>\n",
       "      <td>0</td>\n",
       "      <td>3</td>\n",
       "    </tr>\n",
       "    <tr>\n",
       "      <th>2</th>\n",
       "      <td>1001007.0</td>\n",
       "      <td>40</td>\n",
       "      <td>1</td>\n",
       "      <td>5</td>\n",
       "      <td>2</td>\n",
       "      <td>5</td>\n",
       "      <td>18</td>\n",
       "      <td>1</td>\n",
       "      <td>5</td>\n",
       "      <td>4</td>\n",
       "      <td>...</td>\n",
       "      <td>3</td>\n",
       "      <td>20</td>\n",
       "      <td>2</td>\n",
       "      <td>3</td>\n",
       "      <td>18</td>\n",
       "      <td>13</td>\n",
       "      <td>1</td>\n",
       "      <td>12</td>\n",
       "      <td>0</td>\n",
       "      <td>4</td>\n",
       "    </tr>\n",
       "    <tr>\n",
       "      <th>3</th>\n",
       "      <td>1001009.0</td>\n",
       "      <td>41</td>\n",
       "      <td>1</td>\n",
       "      <td>0</td>\n",
       "      <td>0</td>\n",
       "      <td>2</td>\n",
       "      <td>11</td>\n",
       "      <td>2</td>\n",
       "      <td>10</td>\n",
       "      <td>4</td>\n",
       "      <td>...</td>\n",
       "      <td>2</td>\n",
       "      <td>23</td>\n",
       "      <td>2</td>\n",
       "      <td>2</td>\n",
       "      <td>21</td>\n",
       "      <td>6</td>\n",
       "      <td>12</td>\n",
       "      <td>6</td>\n",
       "      <td>0</td>\n",
       "      <td>3</td>\n",
       "    </tr>\n",
       "    <tr>\n",
       "      <th>4</th>\n",
       "      <td>1001010.0</td>\n",
       "      <td>60</td>\n",
       "      <td>1</td>\n",
       "      <td>3</td>\n",
       "      <td>1</td>\n",
       "      <td>5</td>\n",
       "      <td>18</td>\n",
       "      <td>2</td>\n",
       "      <td>16</td>\n",
       "      <td>4</td>\n",
       "      <td>...</td>\n",
       "      <td>4</td>\n",
       "      <td>10</td>\n",
       "      <td>1</td>\n",
       "      <td>3</td>\n",
       "      <td>2</td>\n",
       "      <td>2</td>\n",
       "      <td>2</td>\n",
       "      <td>2</td>\n",
       "      <td>0</td>\n",
       "      <td>3</td>\n",
       "    </tr>\n",
       "  </tbody>\n",
       "</table>\n",
       "<p>5 rows × 28 columns</p>\n",
       "</div>"
      ],
      "text/plain": [
       "   EmpNumber  Age  Gender EducationBackground  MaritalStatus EmpDepartment  \\\n",
       "0  1001000.0   32       1                   3              1             5   \n",
       "1  1001006.0   47       1                   3              1             5   \n",
       "2  1001007.0   40       1                   5              2             5   \n",
       "3  1001009.0   41       1                   0              0             2   \n",
       "4  1001010.0   60       1                   3              1             5   \n",
       "\n",
       "  EmpJobRole  BusinessTravelFrequency  DistanceFromHome  EmpEducationLevel  \\\n",
       "0         18                        2                10                  3   \n",
       "1         18                        2                14                  4   \n",
       "2         18                        1                 5                  4   \n",
       "3         11                        2                10                  4   \n",
       "4         18                        2                16                  4   \n",
       "\n",
       "   ...  EmpRelationshipSatisfaction  TotalWorkExperienceInYears  \\\n",
       "0  ...                            4                          10   \n",
       "1  ...                            4                          20   \n",
       "2  ...                            3                          20   \n",
       "3  ...                            2                          23   \n",
       "4  ...                            4                          10   \n",
       "\n",
       "   TrainingTimesLastYear  EmpWorkLifeBalance  ExperienceYearsAtThisCompany  \\\n",
       "0                      2                   2                            10   \n",
       "1                      2                   3                             7   \n",
       "2                      2                   3                            18   \n",
       "3                      2                   2                            21   \n",
       "4                      1                   3                             2   \n",
       "\n",
       "   ExperienceYearsInCurrentRole  YearsSinceLastPromotion  \\\n",
       "0                             7                        0   \n",
       "1                             7                        1   \n",
       "2                            13                        1   \n",
       "3                             6                       12   \n",
       "4                             2                        2   \n",
       "\n",
       "   YearsWithCurrManager  Attrition  PerformanceRating  \n",
       "0                     8          0                  3  \n",
       "1                     7          0                  3  \n",
       "2                    12          0                  4  \n",
       "3                     6          0                  3  \n",
       "4                     2          0                  3  \n",
       "\n",
       "[5 rows x 28 columns]"
      ]
     },
     "execution_count": 92,
     "metadata": {},
     "output_type": "execute_result"
    }
   ],
   "source": [
    "# Check all data features \n",
    "data.head()"
   ]
  },
  {
   "cell_type": "markdown",
   "id": "54e3935a",
   "metadata": {},
   "source": [
    "### CHECK OUTLIERS AND IMPUTE OUTLIERS:\n",
    "\n",
    "**BoxPlot:** Box plots are used to show distributions of numeric data values as well as it helps to detect the outliers."
   ]
  },
  {
   "cell_type": "code",
   "execution_count": 93,
   "id": "ea5b46ac",
   "metadata": {},
   "outputs": [
    {
     "data": {
      "image/png": "[encoded data removed]",
      "text/plain": [
       "<Figure size 1440x1296 with 10 Axes>"
      ]
     },
     "metadata": {
      "needs_background": "light"
     },
     "output_type": "display_data"
    }
   ],
   "source": [
    "out = data[['Age','DistanceFromHome','EmpHourlyRate','EmpLastSalaryHikePercent',\n",
    "                   'TotalWorkExperienceInYears','TrainingTimesLastYear','ExperienceYearsAtThisCompany',\n",
    "                   'ExperienceYearsInCurrentRole','YearsSinceLastPromotion','YearsWithCurrManager']]\n",
    "\n",
    "plt.figure(figsize=(20,18)) # defining canvas size\n",
    "plotno = 1 # counter\n",
    "\n",
    "for column in out: # iteration of columns / acessing the columns from count \n",
    "    if plotno<=12:    # set the limit\n",
    "        plt.subplot(4,3,plotno) # # plotting 7 graphs (3-rows,3-columns) ,plotnumber is for count\n",
    "        sns.boxplot(out[column]) # Plotting box plots to detect the outlier\n",
    "        plt.xlabel(column,fontsize=20)  # assigning name to x-axis and font size is 20\n",
    "    plotno+=1 # counter increment\n",
    "plt.tight_layout()\n",
    "plt.show() # used to hide the storage loction\n"
   ]
  },
  {
   "cell_type": "markdown",
   "id": "42f66078",
   "metadata": {},
   "source": [
    "* Here we are use inter quatile range to impute the outlier, becuase data is not normally distributed."
   ]
  },
  {
   "cell_type": "markdown",
   "id": "7cdc04a5",
   "metadata": {},
   "source": [
    "**IQR:**\n",
    "* IQR stand for the interquatile range, When a data set has outliers or extreme values, we summarize a typical value using the median as opposed to the mean. which is the difference between the first and third quartiles"
   ]
  },
  {
   "cell_type": "markdown",
   "id": "cc60f0ff",
   "metadata": {},
   "source": [
    "#### 1.Total Work Experiance in year"
   ]
  },
  {
   "cell_type": "code",
   "execution_count": 94,
   "id": "6d4feb77",
   "metadata": {},
   "outputs": [
    {
     "name": "stdout",
     "output_type": "stream",
     "text": [
      "IQR: 9.0\n",
      "Minimum limit: -7.5\n",
      "Maximum Limit: 28.5\n"
     ]
    }
   ],
   "source": [
    "# Use iqr range because some skewed in data\n",
    "iqr = stats.iqr(data['TotalWorkExperienceInYears'],interpolation='midpoint')\n",
    "print(\"IQR:\",iqr)\n",
    "\n",
    "# Getting first & third quantile\n",
    "Q1 = data['TotalWorkExperienceInYears'].quantile(0.25)\n",
    "Q3 = data['TotalWorkExperienceInYears'].quantile(0.75)\n",
    "\n",
    "# Get maximum and minimum limit\n",
    "min_limit = Q1 - 1.5*iqr\n",
    "print(\"Minimum limit:\",min_limit)\n",
    "\n",
    "max_limit = Q3 + 1.5*iqr\n",
    "print(\"Maximum Limit:\",max_limit)"
   ]
  },
  {
   "cell_type": "code",
   "execution_count": 95,
   "id": "d5b23eb9",
   "metadata": {},
   "outputs": [],
   "source": [
    "# Impute outlier\n",
    "data.loc[data['TotalWorkExperienceInYears'] > max_limit,'TotalWorkExperienceInYears']=data['TotalWorkExperienceInYears'].median()"
   ]
  },
  {
   "cell_type": "code",
   "execution_count": 96,
   "id": "a2634f7d",
   "metadata": {},
   "outputs": [
    {
     "data": {
      "text/html": [
       "<div>\n",
       "<style scoped>\n",
       "    .dataframe tbody tr th:only-of-type {\n",
       "        vertical-align: middle;\n",
       "    }\n",
       "\n",
       "    .dataframe tbody tr th {\n",
       "        vertical-align: top;\n",
       "    }\n",
       "\n",
       "    .dataframe thead th {\n",
       "        text-align: right;\n",
       "    }\n",
       "</style>\n",
       "<table border=\"1\" class=\"dataframe\">\n",
       "  <thead>\n",
       "    <tr style=\"text-align: right;\">\n",
       "      <th></th>\n",
       "      <th>EmpNumber</th>\n",
       "      <th>Age</th>\n",
       "      <th>Gender</th>\n",
       "      <th>EducationBackground</th>\n",
       "      <th>MaritalStatus</th>\n",
       "      <th>EmpDepartment</th>\n",
       "      <th>EmpJobRole</th>\n",
       "      <th>BusinessTravelFrequency</th>\n",
       "      <th>DistanceFromHome</th>\n",
       "      <th>EmpEducationLevel</th>\n",
       "      <th>...</th>\n",
       "      <th>EmpRelationshipSatisfaction</th>\n",
       "      <th>TotalWorkExperienceInYears</th>\n",
       "      <th>TrainingTimesLastYear</th>\n",
       "      <th>EmpWorkLifeBalance</th>\n",
       "      <th>ExperienceYearsAtThisCompany</th>\n",
       "      <th>ExperienceYearsInCurrentRole</th>\n",
       "      <th>YearsSinceLastPromotion</th>\n",
       "      <th>YearsWithCurrManager</th>\n",
       "      <th>Attrition</th>\n",
       "      <th>PerformanceRating</th>\n",
       "    </tr>\n",
       "  </thead>\n",
       "  <tbody>\n",
       "  </tbody>\n",
       "</table>\n",
       "<p>0 rows × 28 columns</p>\n",
       "</div>"
      ],
      "text/plain": [
       "Empty DataFrame\n",
       "Columns: [EmpNumber, Age, Gender, EducationBackground, MaritalStatus, EmpDepartment, EmpJobRole, BusinessTravelFrequency, DistanceFromHome, EmpEducationLevel, EmpEnvironmentSatisfaction, EmpHourlyRate, EmpJobInvolvement, EmpJobLevel, EmpJobSatisfaction, NumCompaniesWorked, OverTime, EmpLastSalaryHikePercent, EmpRelationshipSatisfaction, TotalWorkExperienceInYears, TrainingTimesLastYear, EmpWorkLifeBalance, ExperienceYearsAtThisCompany, ExperienceYearsInCurrentRole, YearsSinceLastPromotion, YearsWithCurrManager, Attrition, PerformanceRating]\n",
       "Index: []\n",
       "\n",
       "[0 rows x 28 columns]"
      ]
     },
     "execution_count": 96,
     "metadata": {},
     "output_type": "execute_result"
    }
   ],
   "source": [
    "# filtering data after imputation\n",
    "data.loc[data['TotalWorkExperienceInYears'] > max_limit]"
   ]
  },
  {
   "cell_type": "markdown",
   "id": "fc1fabd0",
   "metadata": {},
   "source": [
    "#### 2.Training Times Last Year"
   ]
  },
  {
   "cell_type": "code",
   "execution_count": 97,
   "id": "e05ce7b3",
   "metadata": {},
   "outputs": [
    {
     "name": "stdout",
     "output_type": "stream",
     "text": [
      "IQR: 1.0\n",
      "Minimum limit: 0.5\n",
      "Maximum Limit: 4.5\n"
     ]
    }
   ],
   "source": [
    "# Use iqr range because some skewed in data\n",
    "iqr = stats.iqr(data['TrainingTimesLastYear'],interpolation='midpoint')\n",
    "print(\"IQR:\",iqr)\n",
    "\n",
    "# Getting first & third quantile\n",
    "Q1 = data['TrainingTimesLastYear'].quantile(0.25)\n",
    "Q3 = data['TrainingTimesLastYear'].quantile(0.75)\n",
    "\n",
    "# Get maximum and minimum limit\n",
    "min_limit = Q1 - 1.5*iqr\n",
    "print(\"Minimum limit:\",min_limit)\n",
    "\n",
    "max_limit = Q3 + 1.5*iqr\n",
    "print(\"Maximum Limit:\",max_limit)"
   ]
  },
  {
   "cell_type": "code",
   "execution_count": 98,
   "id": "3b0b4668",
   "metadata": {},
   "outputs": [],
   "source": [
    "# Impute outlier in max & minmum limit\n",
    "data.loc[data['TrainingTimesLastYear'] < min_limit,'TrainingTimesLastYear']=data['TrainingTimesLastYear'].median()\n",
    "data.loc[data['TrainingTimesLastYear'] > max_limit,'TrainingTimesLastYear']=data['TrainingTimesLastYear'].median()"
   ]
  },
  {
   "cell_type": "code",
   "execution_count": 99,
   "id": "aa4749f2",
   "metadata": {},
   "outputs": [
    {
     "data": {
      "text/html": [
       "<div>\n",
       "<style scoped>\n",
       "    .dataframe tbody tr th:only-of-type {\n",
       "        vertical-align: middle;\n",
       "    }\n",
       "\n",
       "    .dataframe tbody tr th {\n",
       "        vertical-align: top;\n",
       "    }\n",
       "\n",
       "    .dataframe thead th {\n",
       "        text-align: right;\n",
       "    }\n",
       "</style>\n",
       "<table border=\"1\" class=\"dataframe\">\n",
       "  <thead>\n",
       "    <tr style=\"text-align: right;\">\n",
       "      <th></th>\n",
       "      <th>EmpNumber</th>\n",
       "      <th>Age</th>\n",
       "      <th>Gender</th>\n",
       "      <th>EducationBackground</th>\n",
       "      <th>MaritalStatus</th>\n",
       "      <th>EmpDepartment</th>\n",
       "      <th>EmpJobRole</th>\n",
       "      <th>BusinessTravelFrequency</th>\n",
       "      <th>DistanceFromHome</th>\n",
       "      <th>EmpEducationLevel</th>\n",
       "      <th>...</th>\n",
       "      <th>EmpRelationshipSatisfaction</th>\n",
       "      <th>TotalWorkExperienceInYears</th>\n",
       "      <th>TrainingTimesLastYear</th>\n",
       "      <th>EmpWorkLifeBalance</th>\n",
       "      <th>ExperienceYearsAtThisCompany</th>\n",
       "      <th>ExperienceYearsInCurrentRole</th>\n",
       "      <th>YearsSinceLastPromotion</th>\n",
       "      <th>YearsWithCurrManager</th>\n",
       "      <th>Attrition</th>\n",
       "      <th>PerformanceRating</th>\n",
       "    </tr>\n",
       "  </thead>\n",
       "  <tbody>\n",
       "  </tbody>\n",
       "</table>\n",
       "<p>0 rows × 28 columns</p>\n",
       "</div>"
      ],
      "text/plain": [
       "Empty DataFrame\n",
       "Columns: [EmpNumber, Age, Gender, EducationBackground, MaritalStatus, EmpDepartment, EmpJobRole, BusinessTravelFrequency, DistanceFromHome, EmpEducationLevel, EmpEnvironmentSatisfaction, EmpHourlyRate, EmpJobInvolvement, EmpJobLevel, EmpJobSatisfaction, NumCompaniesWorked, OverTime, EmpLastSalaryHikePercent, EmpRelationshipSatisfaction, TotalWorkExperienceInYears, TrainingTimesLastYear, EmpWorkLifeBalance, ExperienceYearsAtThisCompany, ExperienceYearsInCurrentRole, YearsSinceLastPromotion, YearsWithCurrManager, Attrition, PerformanceRating]\n",
       "Index: []\n",
       "\n",
       "[0 rows x 28 columns]"
      ]
     },
     "execution_count": 99,
     "metadata": {},
     "output_type": "execute_result"
    }
   ],
   "source": [
    "# Filtering the min limit\n",
    "data.loc[data['TrainingTimesLastYear'] < min_limit]"
   ]
  },
  {
   "cell_type": "code",
   "execution_count": 100,
   "id": "0342265c",
   "metadata": {},
   "outputs": [
    {
     "data": {
      "text/html": [
       "<div>\n",
       "<style scoped>\n",
       "    .dataframe tbody tr th:only-of-type {\n",
       "        vertical-align: middle;\n",
       "    }\n",
       "\n",
       "    .dataframe tbody tr th {\n",
       "        vertical-align: top;\n",
       "    }\n",
       "\n",
       "    .dataframe thead th {\n",
       "        text-align: right;\n",
       "    }\n",
       "</style>\n",
       "<table border=\"1\" class=\"dataframe\">\n",
       "  <thead>\n",
       "    <tr style=\"text-align: right;\">\n",
       "      <th></th>\n",
       "      <th>EmpNumber</th>\n",
       "      <th>Age</th>\n",
       "      <th>Gender</th>\n",
       "      <th>EducationBackground</th>\n",
       "      <th>MaritalStatus</th>\n",
       "      <th>EmpDepartment</th>\n",
       "      <th>EmpJobRole</th>\n",
       "      <th>BusinessTravelFrequency</th>\n",
       "      <th>DistanceFromHome</th>\n",
       "      <th>EmpEducationLevel</th>\n",
       "      <th>...</th>\n",
       "      <th>EmpRelationshipSatisfaction</th>\n",
       "      <th>TotalWorkExperienceInYears</th>\n",
       "      <th>TrainingTimesLastYear</th>\n",
       "      <th>EmpWorkLifeBalance</th>\n",
       "      <th>ExperienceYearsAtThisCompany</th>\n",
       "      <th>ExperienceYearsInCurrentRole</th>\n",
       "      <th>YearsSinceLastPromotion</th>\n",
       "      <th>YearsWithCurrManager</th>\n",
       "      <th>Attrition</th>\n",
       "      <th>PerformanceRating</th>\n",
       "    </tr>\n",
       "  </thead>\n",
       "  <tbody>\n",
       "  </tbody>\n",
       "</table>\n",
       "<p>0 rows × 28 columns</p>\n",
       "</div>"
      ],
      "text/plain": [
       "Empty DataFrame\n",
       "Columns: [EmpNumber, Age, Gender, EducationBackground, MaritalStatus, EmpDepartment, EmpJobRole, BusinessTravelFrequency, DistanceFromHome, EmpEducationLevel, EmpEnvironmentSatisfaction, EmpHourlyRate, EmpJobInvolvement, EmpJobLevel, EmpJobSatisfaction, NumCompaniesWorked, OverTime, EmpLastSalaryHikePercent, EmpRelationshipSatisfaction, TotalWorkExperienceInYears, TrainingTimesLastYear, EmpWorkLifeBalance, ExperienceYearsAtThisCompany, ExperienceYearsInCurrentRole, YearsSinceLastPromotion, YearsWithCurrManager, Attrition, PerformanceRating]\n",
       "Index: []\n",
       "\n",
       "[0 rows x 28 columns]"
      ]
     },
     "execution_count": 100,
     "metadata": {},
     "output_type": "execute_result"
    }
   ],
   "source": [
    "# Filtering the max limit\n",
    "data.loc[data['TrainingTimesLastYear'] > max_limit]"
   ]
  },
  {
   "cell_type": "markdown",
   "id": "4ae0cac9",
   "metadata": {},
   "source": [
    "#### 3.Experience Years At This Company"
   ]
  },
  {
   "cell_type": "code",
   "execution_count": 101,
   "id": "29dc2451",
   "metadata": {},
   "outputs": [
    {
     "name": "stdout",
     "output_type": "stream",
     "text": [
      "IQR: 7.0\n",
      "Minimum limit: -7.5\n",
      "Maximum Limit: 20.5\n"
     ]
    }
   ],
   "source": [
    "# Use iqr range because some skewed in data\n",
    "iqr = stats.iqr(data['ExperienceYearsAtThisCompany'],interpolation='midpoint')\n",
    "print(\"IQR:\",iqr)\n",
    "\n",
    "# Getting first & third quantile\n",
    "Q1 = data['ExperienceYearsAtThisCompany'].quantile(0.25)\n",
    "Q3 = data['ExperienceYearsAtThisCompany'].quantile(0.75)\n",
    "\n",
    "# Get maximum and minimum limit\n",
    "min_limit = Q1 - 1.5*iqr\n",
    "print(\"Minimum limit:\",min_limit)\n",
    "\n",
    "max_limit = Q3 + 1.5*iqr\n",
    "print(\"Maximum Limit:\",max_limit)"
   ]
  },
  {
   "cell_type": "code",
   "execution_count": 102,
   "id": "6e7e89af",
   "metadata": {},
   "outputs": [],
   "source": [
    "# Impute outlier\n",
    "data.loc[data['ExperienceYearsAtThisCompany'] > max_limit,'ExperienceYearsAtThisCompany']=data['ExperienceYearsAtThisCompany'].median()"
   ]
  },
  {
   "cell_type": "code",
   "execution_count": 103,
   "id": "43a63aff",
   "metadata": {},
   "outputs": [
    {
     "data": {
      "text/html": [
       "<div>\n",
       "<style scoped>\n",
       "    .dataframe tbody tr th:only-of-type {\n",
       "        vertical-align: middle;\n",
       "    }\n",
       "\n",
       "    .dataframe tbody tr th {\n",
       "        vertical-align: top;\n",
       "    }\n",
       "\n",
       "    .dataframe thead th {\n",
       "        text-align: right;\n",
       "    }\n",
       "</style>\n",
       "<table border=\"1\" class=\"dataframe\">\n",
       "  <thead>\n",
       "    <tr style=\"text-align: right;\">\n",
       "      <th></th>\n",
       "      <th>EmpNumber</th>\n",
       "      <th>Age</th>\n",
       "      <th>Gender</th>\n",
       "      <th>EducationBackground</th>\n",
       "      <th>MaritalStatus</th>\n",
       "      <th>EmpDepartment</th>\n",
       "      <th>EmpJobRole</th>\n",
       "      <th>BusinessTravelFrequency</th>\n",
       "      <th>DistanceFromHome</th>\n",
       "      <th>EmpEducationLevel</th>\n",
       "      <th>...</th>\n",
       "      <th>EmpRelationshipSatisfaction</th>\n",
       "      <th>TotalWorkExperienceInYears</th>\n",
       "      <th>TrainingTimesLastYear</th>\n",
       "      <th>EmpWorkLifeBalance</th>\n",
       "      <th>ExperienceYearsAtThisCompany</th>\n",
       "      <th>ExperienceYearsInCurrentRole</th>\n",
       "      <th>YearsSinceLastPromotion</th>\n",
       "      <th>YearsWithCurrManager</th>\n",
       "      <th>Attrition</th>\n",
       "      <th>PerformanceRating</th>\n",
       "    </tr>\n",
       "  </thead>\n",
       "  <tbody>\n",
       "  </tbody>\n",
       "</table>\n",
       "<p>0 rows × 28 columns</p>\n",
       "</div>"
      ],
      "text/plain": [
       "Empty DataFrame\n",
       "Columns: [EmpNumber, Age, Gender, EducationBackground, MaritalStatus, EmpDepartment, EmpJobRole, BusinessTravelFrequency, DistanceFromHome, EmpEducationLevel, EmpEnvironmentSatisfaction, EmpHourlyRate, EmpJobInvolvement, EmpJobLevel, EmpJobSatisfaction, NumCompaniesWorked, OverTime, EmpLastSalaryHikePercent, EmpRelationshipSatisfaction, TotalWorkExperienceInYears, TrainingTimesLastYear, EmpWorkLifeBalance, ExperienceYearsAtThisCompany, ExperienceYearsInCurrentRole, YearsSinceLastPromotion, YearsWithCurrManager, Attrition, PerformanceRating]\n",
       "Index: []\n",
       "\n",
       "[0 rows x 28 columns]"
      ]
     },
     "execution_count": 103,
     "metadata": {},
     "output_type": "execute_result"
    }
   ],
   "source": [
    "# Filtering the data\n",
    "data.loc[data['ExperienceYearsAtThisCompany'] > max_limit]"
   ]
  },
  {
   "cell_type": "markdown",
   "id": "45e2a3e8",
   "metadata": {},
   "source": [
    "#### 4.Experience Years In Current Role"
   ]
  },
  {
   "cell_type": "code",
   "execution_count": 104,
   "id": "c1b7a757",
   "metadata": {},
   "outputs": [
    {
     "name": "stdout",
     "output_type": "stream",
     "text": [
      "IQR: 5.0\n",
      "Minimum limit: -5.5\n",
      "Maximum Limit: 14.5\n"
     ]
    }
   ],
   "source": [
    "# Use iqr range because some skewed in data\n",
    "iqr = stats.iqr(data['ExperienceYearsInCurrentRole'],interpolation='midpoint')\n",
    "print(\"IQR:\",iqr)\n",
    "\n",
    "# Getting first & third quantile\n",
    "Q1 = data['ExperienceYearsInCurrentRole'].quantile(0.25)\n",
    "Q3 = data['ExperienceYearsInCurrentRole'].quantile(0.75)\n",
    "\n",
    "# Get maximum and minimum limit\n",
    "min_limit = Q1 - 1.5*iqr\n",
    "print(\"Minimum limit:\",min_limit)\n",
    "\n",
    "max_limit = Q3 + 1.5*iqr\n",
    "print(\"Maximum Limit:\",max_limit)"
   ]
  },
  {
   "cell_type": "code",
   "execution_count": 105,
   "id": "099983a1",
   "metadata": {},
   "outputs": [],
   "source": [
    "# Impute the outlier\n",
    "data.loc[data['ExperienceYearsInCurrentRole'] > max_limit,'ExperienceYearsInCurrentRole'] = data['ExperienceYearsInCurrentRole'].median()"
   ]
  },
  {
   "cell_type": "code",
   "execution_count": 106,
   "id": "448795e3",
   "metadata": {},
   "outputs": [
    {
     "data": {
      "text/html": [
       "<div>\n",
       "<style scoped>\n",
       "    .dataframe tbody tr th:only-of-type {\n",
       "        vertical-align: middle;\n",
       "    }\n",
       "\n",
       "    .dataframe tbody tr th {\n",
       "        vertical-align: top;\n",
       "    }\n",
       "\n",
       "    .dataframe thead th {\n",
       "        text-align: right;\n",
       "    }\n",
       "</style>\n",
       "<table border=\"1\" class=\"dataframe\">\n",
       "  <thead>\n",
       "    <tr style=\"text-align: right;\">\n",
       "      <th></th>\n",
       "      <th>EmpNumber</th>\n",
       "      <th>Age</th>\n",
       "      <th>Gender</th>\n",
       "      <th>EducationBackground</th>\n",
       "      <th>MaritalStatus</th>\n",
       "      <th>EmpDepartment</th>\n",
       "      <th>EmpJobRole</th>\n",
       "      <th>BusinessTravelFrequency</th>\n",
       "      <th>DistanceFromHome</th>\n",
       "      <th>EmpEducationLevel</th>\n",
       "      <th>...</th>\n",
       "      <th>EmpRelationshipSatisfaction</th>\n",
       "      <th>TotalWorkExperienceInYears</th>\n",
       "      <th>TrainingTimesLastYear</th>\n",
       "      <th>EmpWorkLifeBalance</th>\n",
       "      <th>ExperienceYearsAtThisCompany</th>\n",
       "      <th>ExperienceYearsInCurrentRole</th>\n",
       "      <th>YearsSinceLastPromotion</th>\n",
       "      <th>YearsWithCurrManager</th>\n",
       "      <th>Attrition</th>\n",
       "      <th>PerformanceRating</th>\n",
       "    </tr>\n",
       "  </thead>\n",
       "  <tbody>\n",
       "  </tbody>\n",
       "</table>\n",
       "<p>0 rows × 28 columns</p>\n",
       "</div>"
      ],
      "text/plain": [
       "Empty DataFrame\n",
       "Columns: [EmpNumber, Age, Gender, EducationBackground, MaritalStatus, EmpDepartment, EmpJobRole, BusinessTravelFrequency, DistanceFromHome, EmpEducationLevel, EmpEnvironmentSatisfaction, EmpHourlyRate, EmpJobInvolvement, EmpJobLevel, EmpJobSatisfaction, NumCompaniesWorked, OverTime, EmpLastSalaryHikePercent, EmpRelationshipSatisfaction, TotalWorkExperienceInYears, TrainingTimesLastYear, EmpWorkLifeBalance, ExperienceYearsAtThisCompany, ExperienceYearsInCurrentRole, YearsSinceLastPromotion, YearsWithCurrManager, Attrition, PerformanceRating]\n",
       "Index: []\n",
       "\n",
       "[0 rows x 28 columns]"
      ]
     },
     "execution_count": 106,
     "metadata": {},
     "output_type": "execute_result"
    }
   ],
   "source": [
    "# Filtering the data\n",
    "data.loc[data['ExperienceYearsInCurrentRole'] > max_limit]"
   ]
  },
  {
   "cell_type": "markdown",
   "id": "b93a5cc9",
   "metadata": {},
   "source": [
    "#### 5.Years Since Last Promotion"
   ]
  },
  {
   "cell_type": "code",
   "execution_count": 107,
   "id": "b33a902b",
   "metadata": {},
   "outputs": [
    {
     "name": "stdout",
     "output_type": "stream",
     "text": [
      "IQR: 3.0\n",
      "Minimum limit: -4.5\n",
      "Maximum limit 7.5\n"
     ]
    }
   ],
   "source": [
    "# use iqr because some skewed in data\n",
    "iqr = stats.iqr(data['YearsSinceLastPromotion'],interpolation='midpoint')\n",
    "print(\"IQR:\",iqr)\n",
    "\n",
    "# Get first and third quantile\n",
    "Q1 = data['YearsSinceLastPromotion'].quantile(0.25)\n",
    "Q3 = data['YearsSinceLastPromotion'].quantile(0.75)\n",
    "\n",
    "# Get manimum and maximum limit\n",
    "min_limit = Q1 - 1.5*iqr\n",
    "print(\"Minimum limit:\",min_limit)\n",
    "\n",
    "max_limit = Q3 +1.5*iqr\n",
    "print(\"Maximum limit\",max_limit)"
   ]
  },
  {
   "cell_type": "code",
   "execution_count": 108,
   "id": "84bcea11",
   "metadata": {},
   "outputs": [],
   "source": [
    "# impute outlier\n",
    "data.loc[data['YearsSinceLastPromotion'] > max_limit,'YearsSinceLastPromotion']=data['YearsSinceLastPromotion'].median()"
   ]
  },
  {
   "cell_type": "code",
   "execution_count": 109,
   "id": "a74280fe",
   "metadata": {},
   "outputs": [
    {
     "data": {
      "text/html": [
       "<div>\n",
       "<style scoped>\n",
       "    .dataframe tbody tr th:only-of-type {\n",
       "        vertical-align: middle;\n",
       "    }\n",
       "\n",
       "    .dataframe tbody tr th {\n",
       "        vertical-align: top;\n",
       "    }\n",
       "\n",
       "    .dataframe thead th {\n",
       "        text-align: right;\n",
       "    }\n",
       "</style>\n",
       "<table border=\"1\" class=\"dataframe\">\n",
       "  <thead>\n",
       "    <tr style=\"text-align: right;\">\n",
       "      <th></th>\n",
       "      <th>EmpNumber</th>\n",
       "      <th>Age</th>\n",
       "      <th>Gender</th>\n",
       "      <th>EducationBackground</th>\n",
       "      <th>MaritalStatus</th>\n",
       "      <th>EmpDepartment</th>\n",
       "      <th>EmpJobRole</th>\n",
       "      <th>BusinessTravelFrequency</th>\n",
       "      <th>DistanceFromHome</th>\n",
       "      <th>EmpEducationLevel</th>\n",
       "      <th>...</th>\n",
       "      <th>EmpRelationshipSatisfaction</th>\n",
       "      <th>TotalWorkExperienceInYears</th>\n",
       "      <th>TrainingTimesLastYear</th>\n",
       "      <th>EmpWorkLifeBalance</th>\n",
       "      <th>ExperienceYearsAtThisCompany</th>\n",
       "      <th>ExperienceYearsInCurrentRole</th>\n",
       "      <th>YearsSinceLastPromotion</th>\n",
       "      <th>YearsWithCurrManager</th>\n",
       "      <th>Attrition</th>\n",
       "      <th>PerformanceRating</th>\n",
       "    </tr>\n",
       "  </thead>\n",
       "  <tbody>\n",
       "  </tbody>\n",
       "</table>\n",
       "<p>0 rows × 28 columns</p>\n",
       "</div>"
      ],
      "text/plain": [
       "Empty DataFrame\n",
       "Columns: [EmpNumber, Age, Gender, EducationBackground, MaritalStatus, EmpDepartment, EmpJobRole, BusinessTravelFrequency, DistanceFromHome, EmpEducationLevel, EmpEnvironmentSatisfaction, EmpHourlyRate, EmpJobInvolvement, EmpJobLevel, EmpJobSatisfaction, NumCompaniesWorked, OverTime, EmpLastSalaryHikePercent, EmpRelationshipSatisfaction, TotalWorkExperienceInYears, TrainingTimesLastYear, EmpWorkLifeBalance, ExperienceYearsAtThisCompany, ExperienceYearsInCurrentRole, YearsSinceLastPromotion, YearsWithCurrManager, Attrition, PerformanceRating]\n",
       "Index: []\n",
       "\n",
       "[0 rows x 28 columns]"
      ]
     },
     "execution_count": 109,
     "metadata": {},
     "output_type": "execute_result"
    }
   ],
   "source": [
    "# Filtering data\n",
    "data.loc[data['YearsSinceLastPromotion'] > max_limit]"
   ]
  },
  {
   "cell_type": "markdown",
   "id": "4e9ac922",
   "metadata": {},
   "source": [
    "#### 6.Years With Current Manager"
   ]
  },
  {
   "cell_type": "code",
   "execution_count": 110,
   "id": "e735aad7",
   "metadata": {},
   "outputs": [
    {
     "name": "stdout",
     "output_type": "stream",
     "text": [
      "IQR: 5.0\n",
      "Minimum limit: -5.5\n",
      "Maximum limit 14.5\n"
     ]
    }
   ],
   "source": [
    "# use iqr because some skewed in data\n",
    "iqr = stats.iqr(data['YearsWithCurrManager'],interpolation='midpoint')\n",
    "print(\"IQR:\",iqr)\n",
    "\n",
    "# Get first and third quantile\n",
    "Q1 = data['YearsWithCurrManager'].quantile(0.25)\n",
    "Q3 = data['YearsWithCurrManager'].quantile(0.75)\n",
    "\n",
    "# Get manimum and maximum limit\n",
    "min_limit = Q1 - 1.5*iqr\n",
    "print(\"Minimum limit:\",min_limit)\n",
    "\n",
    "max_limit = Q3 +1.5*iqr\n",
    "print(\"Maximum limit\",max_limit)"
   ]
  },
  {
   "cell_type": "code",
   "execution_count": 111,
   "id": "48e982b1",
   "metadata": {},
   "outputs": [],
   "source": [
    "# impute outlier\n",
    "data.loc[data['YearsWithCurrManager'] > max_limit,'YearsWithCurrManager']=data['YearsWithCurrManager'].median()"
   ]
  },
  {
   "cell_type": "code",
   "execution_count": 112,
   "id": "0aa02d79",
   "metadata": {},
   "outputs": [
    {
     "data": {
      "text/html": [
       "<div>\n",
       "<style scoped>\n",
       "    .dataframe tbody tr th:only-of-type {\n",
       "        vertical-align: middle;\n",
       "    }\n",
       "\n",
       "    .dataframe tbody tr th {\n",
       "        vertical-align: top;\n",
       "    }\n",
       "\n",
       "    .dataframe thead th {\n",
       "        text-align: right;\n",
       "    }\n",
       "</style>\n",
       "<table border=\"1\" class=\"dataframe\">\n",
       "  <thead>\n",
       "    <tr style=\"text-align: right;\">\n",
       "      <th></th>\n",
       "      <th>EmpNumber</th>\n",
       "      <th>Age</th>\n",
       "      <th>Gender</th>\n",
       "      <th>EducationBackground</th>\n",
       "      <th>MaritalStatus</th>\n",
       "      <th>EmpDepartment</th>\n",
       "      <th>EmpJobRole</th>\n",
       "      <th>BusinessTravelFrequency</th>\n",
       "      <th>DistanceFromHome</th>\n",
       "      <th>EmpEducationLevel</th>\n",
       "      <th>...</th>\n",
       "      <th>EmpRelationshipSatisfaction</th>\n",
       "      <th>TotalWorkExperienceInYears</th>\n",
       "      <th>TrainingTimesLastYear</th>\n",
       "      <th>EmpWorkLifeBalance</th>\n",
       "      <th>ExperienceYearsAtThisCompany</th>\n",
       "      <th>ExperienceYearsInCurrentRole</th>\n",
       "      <th>YearsSinceLastPromotion</th>\n",
       "      <th>YearsWithCurrManager</th>\n",
       "      <th>Attrition</th>\n",
       "      <th>PerformanceRating</th>\n",
       "    </tr>\n",
       "  </thead>\n",
       "  <tbody>\n",
       "  </tbody>\n",
       "</table>\n",
       "<p>0 rows × 28 columns</p>\n",
       "</div>"
      ],
      "text/plain": [
       "Empty DataFrame\n",
       "Columns: [EmpNumber, Age, Gender, EducationBackground, MaritalStatus, EmpDepartment, EmpJobRole, BusinessTravelFrequency, DistanceFromHome, EmpEducationLevel, EmpEnvironmentSatisfaction, EmpHourlyRate, EmpJobInvolvement, EmpJobLevel, EmpJobSatisfaction, NumCompaniesWorked, OverTime, EmpLastSalaryHikePercent, EmpRelationshipSatisfaction, TotalWorkExperienceInYears, TrainingTimesLastYear, EmpWorkLifeBalance, ExperienceYearsAtThisCompany, ExperienceYearsInCurrentRole, YearsSinceLastPromotion, YearsWithCurrManager, Attrition, PerformanceRating]\n",
       "Index: []\n",
       "\n",
       "[0 rows x 28 columns]"
      ]
     },
     "execution_count": 112,
     "metadata": {},
     "output_type": "execute_result"
    }
   ],
   "source": [
    "# Filtering the data\n",
    "data.loc[data['YearsWithCurrManager'] >max_limit]"
   ]
  },
  {
   "cell_type": "markdown",
   "id": "f5d6d3bf",
   "metadata": {},
   "source": [
    "#### CHECKING OUTLIER AFTER IMPUTATION"
   ]
  },
  {
   "cell_type": "code",
   "execution_count": 113,
   "id": "7742ea81",
   "metadata": {},
   "outputs": [
    {
     "data": {
      "image/png": "[encoded data removed]",
      "text/plain": [
       "<Figure size 1440x720 with 6 Axes>"
      ]
     },
     "metadata": {
      "needs_background": "light"
     },
     "output_type": "display_data"
    }
   ],
   "source": [
    "out = data[['TotalWorkExperienceInYears','TrainingTimesLastYear','ExperienceYearsAtThisCompany',\n",
    "            'ExperienceYearsInCurrentRole','YearsSinceLastPromotion','YearsWithCurrManager']]\n",
    "\n",
    "plt.figure(figsize=(20,10)) # defining canvas size\n",
    "plotno = 1 # counter\n",
    "\n",
    "for column in out: # iteration of columns / acessing the columns from count \n",
    "    if plotno<=7:    # set the limit\n",
    "        plt.subplot(2,3,plotno) # # plotting 7 graphs (3-rows,3-columns) ,plotnumber is for count\n",
    "        sns.boxplot(out[column]) # Plotting box plots to detect the outlier\n",
    "        plt.xlabel(column,fontsize=20)  # assigning name to x-axis and font size is 20\n",
    "    plotno+=1 # counter increment\n",
    "plt.tight_layout()\n",
    "plt.show() # used to hide the storage loction\n"
   ]
  },
  {
   "cell_type": "markdown",
   "id": "7f08a523",
   "metadata": {},
   "source": [
    "**Observation:**\n",
    "* Outlier impute sucessfully, but some feature box plot showing outlier, so we can not impute this outlier."
   ]
  },
  {
   "cell_type": "markdown",
   "id": "9fc5de3e",
   "metadata": {},
   "source": [
    "### FEATURE TRANSFORMATION"
   ]
  },
  {
   "cell_type": "markdown",
   "id": "62a8ec4e",
   "metadata": {},
   "source": [
    "* From the last EDA file we get the yearsince last promotion feature have some skewed in data, so we are going to use square root transformation."
   ]
  },
  {
   "cell_type": "markdown",
   "id": "0d002d58",
   "metadata": {},
   "source": [
    "**Q-Q Plot:**  Q–Q plot is a probability plot, a graphical method for comparing two probability distributions by plotting their quantiles against each other."
   ]
  },
  {
   "cell_type": "code",
   "execution_count": 114,
   "id": "a1b54d58",
   "metadata": {},
   "outputs": [],
   "source": [
    "# define a function to plot a Q-Q plot\n",
    "def plot_data(data,feature):\n",
    "    plt.figure(figsize=(10,5))\n",
    "    plt.subplot(1,2,1)\n",
    "    data[feature].hist()\n",
    "    plt.subplot(1,2,2)\n",
    "    stats.probplot(data[feature],dist='norm',plot=pylab)\n",
    "    plt.show()"
   ]
  },
  {
   "cell_type": "code",
   "execution_count": 115,
   "id": "a5399e67",
   "metadata": {},
   "outputs": [
    {
     "data": {
      "image/png": "[encoded data removed]",
      "text/plain": [
       "<Figure size 720x360 with 2 Axes>"
      ]
     },
     "metadata": {
      "needs_background": "light"
     },
     "output_type": "display_data"
    }
   ],
   "source": [
    "plot_data(data,'YearsSinceLastPromotion')"
   ]
  },
  {
   "cell_type": "markdown",
   "id": "7200010e",
   "metadata": {},
   "source": [
    "#### SQUARE ROOT TRANSFORMATION"
   ]
  },
  {
   "cell_type": "code",
   "execution_count": 116,
   "id": "14f34830",
   "metadata": {},
   "outputs": [],
   "source": [
    "data['square_YearsSinceLastPromotion'] = data.YearsSinceLastPromotion**(1/2)"
   ]
  },
  {
   "cell_type": "code",
   "execution_count": 117,
   "id": "3f1e43f6",
   "metadata": {},
   "outputs": [
    {
     "data": {
      "image/png": "[encoded data removed]",
      "text/plain": [
       "<Figure size 720x360 with 2 Axes>"
      ]
     },
     "metadata": {
      "needs_background": "light"
     },
     "output_type": "display_data"
    }
   ],
   "source": [
    "plot_data(data,'square_YearsSinceLastPromotion')"
   ]
  },
  {
   "cell_type": "markdown",
   "id": "c52447b3",
   "metadata": {},
   "source": [
    "* Now some points are close to the line."
   ]
  },
  {
   "cell_type": "markdown",
   "id": "61917122",
   "metadata": {},
   "source": [
    "### SCALING THE DATA"
   ]
  },
  {
   "cell_type": "markdown",
   "id": "aabdf753",
   "metadata": {},
   "source": [
    "**Standard Scaling:**\n",
    "Standardization is the process of scaling the feature, it assumes the feature follow  normal distribution and scale the feature between mean and standard deviation, here mean is 0 and standard deviation is always 1."
   ]
  },
  {
   "cell_type": "code",
   "execution_count": 118,
   "id": "3dce0801",
   "metadata": {},
   "outputs": [],
   "source": [
    "from sklearn.preprocessing import StandardScaler\n",
    "\n",
    "scalar = StandardScaler()  #Create Object\n",
    "\n",
    "data[['Age','DistanceFromHome','EmpHourlyRate','EmpLastSalaryHikePercent','TotalWorkExperienceInYears',\n",
    "      'TrainingTimesLastYear','ExperienceYearsAtThisCompany','ExperienceYearsInCurrentRole','YearsWithCurrManager',\n",
    "      'square_YearsSinceLastPromotion']]=scalar.fit_transform(data[['Age','DistanceFromHome','EmpHourlyRate',\n",
    "      'EmpLastSalaryHikePercent','TotalWorkExperienceInYears','TrainingTimesLastYear','ExperienceYearsAtThisCompany',\n",
    "      'ExperienceYearsInCurrentRole','YearsWithCurrManager','square_YearsSinceLastPromotion']])"
   ]
  },
  {
   "cell_type": "code",
   "execution_count": 119,
   "id": "71d2d332",
   "metadata": {},
   "outputs": [
    {
     "data": {
      "text/html": [
       "<div>\n",
       "<style scoped>\n",
       "    .dataframe tbody tr th:only-of-type {\n",
       "        vertical-align: middle;\n",
       "    }\n",
       "\n",
       "    .dataframe tbody tr th {\n",
       "        vertical-align: top;\n",
       "    }\n",
       "\n",
       "    .dataframe thead th {\n",
       "        text-align: right;\n",
       "    }\n",
       "</style>\n",
       "<table border=\"1\" class=\"dataframe\">\n",
       "  <thead>\n",
       "    <tr style=\"text-align: right;\">\n",
       "      <th></th>\n",
       "      <th>EmpNumber</th>\n",
       "      <th>Age</th>\n",
       "      <th>Gender</th>\n",
       "      <th>EducationBackground</th>\n",
       "      <th>MaritalStatus</th>\n",
       "      <th>EmpDepartment</th>\n",
       "      <th>EmpJobRole</th>\n",
       "      <th>BusinessTravelFrequency</th>\n",
       "      <th>DistanceFromHome</th>\n",
       "      <th>EmpEducationLevel</th>\n",
       "      <th>...</th>\n",
       "      <th>TotalWorkExperienceInYears</th>\n",
       "      <th>TrainingTimesLastYear</th>\n",
       "      <th>EmpWorkLifeBalance</th>\n",
       "      <th>ExperienceYearsAtThisCompany</th>\n",
       "      <th>ExperienceYearsInCurrentRole</th>\n",
       "      <th>YearsSinceLastPromotion</th>\n",
       "      <th>YearsWithCurrManager</th>\n",
       "      <th>Attrition</th>\n",
       "      <th>PerformanceRating</th>\n",
       "      <th>square_YearsSinceLastPromotion</th>\n",
       "    </tr>\n",
       "  </thead>\n",
       "  <tbody>\n",
       "    <tr>\n",
       "      <th>0</th>\n",
       "      <td>1001000.0</td>\n",
       "      <td>-0.541458</td>\n",
       "      <td>1</td>\n",
       "      <td>3</td>\n",
       "      <td>1</td>\n",
       "      <td>5</td>\n",
       "      <td>18</td>\n",
       "      <td>2</td>\n",
       "      <td>0.102061</td>\n",
       "      <td>3</td>\n",
       "      <td>...</td>\n",
       "      <td>-0.058535</td>\n",
       "      <td>-0.879579</td>\n",
       "      <td>2</td>\n",
       "      <td>0.868276</td>\n",
       "      <td>0.864098</td>\n",
       "      <td>0</td>\n",
       "      <td>1.202103</td>\n",
       "      <td>0</td>\n",
       "      <td>3</td>\n",
       "      <td>-1.057559</td>\n",
       "    </tr>\n",
       "    <tr>\n",
       "      <th>1</th>\n",
       "      <td>1001006.0</td>\n",
       "      <td>1.109888</td>\n",
       "      <td>1</td>\n",
       "      <td>3</td>\n",
       "      <td>1</td>\n",
       "      <td>5</td>\n",
       "      <td>18</td>\n",
       "      <td>2</td>\n",
       "      <td>0.591464</td>\n",
       "      <td>4</td>\n",
       "      <td>...</td>\n",
       "      <td>1.512870</td>\n",
       "      <td>-0.879579</td>\n",
       "      <td>3</td>\n",
       "      <td>0.200371</td>\n",
       "      <td>0.864098</td>\n",
       "      <td>1</td>\n",
       "      <td>0.902825</td>\n",
       "      <td>0</td>\n",
       "      <td>3</td>\n",
       "      <td>0.151501</td>\n",
       "    </tr>\n",
       "    <tr>\n",
       "      <th>2</th>\n",
       "      <td>1001007.0</td>\n",
       "      <td>0.339260</td>\n",
       "      <td>1</td>\n",
       "      <td>5</td>\n",
       "      <td>2</td>\n",
       "      <td>5</td>\n",
       "      <td>18</td>\n",
       "      <td>1</td>\n",
       "      <td>-0.509693</td>\n",
       "      <td>4</td>\n",
       "      <td>...</td>\n",
       "      <td>1.512870</td>\n",
       "      <td>-0.879579</td>\n",
       "      <td>3</td>\n",
       "      <td>2.649355</td>\n",
       "      <td>2.661702</td>\n",
       "      <td>1</td>\n",
       "      <td>2.399219</td>\n",
       "      <td>0</td>\n",
       "      <td>4</td>\n",
       "      <td>0.151501</td>\n",
       "    </tr>\n",
       "    <tr>\n",
       "      <th>3</th>\n",
       "      <td>1001009.0</td>\n",
       "      <td>0.449349</td>\n",
       "      <td>1</td>\n",
       "      <td>0</td>\n",
       "      <td>0</td>\n",
       "      <td>2</td>\n",
       "      <td>11</td>\n",
       "      <td>2</td>\n",
       "      <td>0.102061</td>\n",
       "      <td>4</td>\n",
       "      <td>...</td>\n",
       "      <td>1.984292</td>\n",
       "      <td>-0.879579</td>\n",
       "      <td>2</td>\n",
       "      <td>-0.244898</td>\n",
       "      <td>0.564498</td>\n",
       "      <td>1</td>\n",
       "      <td>0.603546</td>\n",
       "      <td>0</td>\n",
       "      <td>3</td>\n",
       "      <td>0.151501</td>\n",
       "    </tr>\n",
       "    <tr>\n",
       "      <th>4</th>\n",
       "      <td>1001010.0</td>\n",
       "      <td>2.541054</td>\n",
       "      <td>1</td>\n",
       "      <td>3</td>\n",
       "      <td>1</td>\n",
       "      <td>5</td>\n",
       "      <td>18</td>\n",
       "      <td>2</td>\n",
       "      <td>0.836165</td>\n",
       "      <td>4</td>\n",
       "      <td>...</td>\n",
       "      <td>-0.058535</td>\n",
       "      <td>-2.303999</td>\n",
       "      <td>3</td>\n",
       "      <td>-0.912803</td>\n",
       "      <td>-0.633905</td>\n",
       "      <td>2</td>\n",
       "      <td>-0.593570</td>\n",
       "      <td>0</td>\n",
       "      <td>3</td>\n",
       "      <td>0.652311</td>\n",
       "    </tr>\n",
       "  </tbody>\n",
       "</table>\n",
       "<p>5 rows × 29 columns</p>\n",
       "</div>"
      ],
      "text/plain": [
       "   EmpNumber       Age  Gender EducationBackground  MaritalStatus  \\\n",
       "0  1001000.0 -0.541458       1                   3              1   \n",
       "1  1001006.0  1.109888       1                   3              1   \n",
       "2  1001007.0  0.339260       1                   5              2   \n",
       "3  1001009.0  0.449349       1                   0              0   \n",
       "4  1001010.0  2.541054       1                   3              1   \n",
       "\n",
       "  EmpDepartment EmpJobRole  BusinessTravelFrequency  DistanceFromHome  \\\n",
       "0             5         18                        2          0.102061   \n",
       "1             5         18                        2          0.591464   \n",
       "2             5         18                        1         -0.509693   \n",
       "3             2         11                        2          0.102061   \n",
       "4             5         18                        2          0.836165   \n",
       "\n",
       "   EmpEducationLevel  ...  TotalWorkExperienceInYears  TrainingTimesLastYear  \\\n",
       "0                  3  ...                   -0.058535              -0.879579   \n",
       "1                  4  ...                    1.512870              -0.879579   \n",
       "2                  4  ...                    1.512870              -0.879579   \n",
       "3                  4  ...                    1.984292              -0.879579   \n",
       "4                  4  ...                   -0.058535              -2.303999   \n",
       "\n",
       "   EmpWorkLifeBalance  ExperienceYearsAtThisCompany  \\\n",
       "0                   2                      0.868276   \n",
       "1                   3                      0.200371   \n",
       "2                   3                      2.649355   \n",
       "3                   2                     -0.244898   \n",
       "4                   3                     -0.912803   \n",
       "\n",
       "   ExperienceYearsInCurrentRole  YearsSinceLastPromotion  \\\n",
       "0                      0.864098                        0   \n",
       "1                      0.864098                        1   \n",
       "2                      2.661702                        1   \n",
       "3                      0.564498                        1   \n",
       "4                     -0.633905                        2   \n",
       "\n",
       "   YearsWithCurrManager  Attrition  PerformanceRating  \\\n",
       "0              1.202103          0                  3   \n",
       "1              0.902825          0                  3   \n",
       "2              2.399219          0                  4   \n",
       "3              0.603546          0                  3   \n",
       "4             -0.593570          0                  3   \n",
       "\n",
       "   square_YearsSinceLastPromotion  \n",
       "0                       -1.057559  \n",
       "1                        0.151501  \n",
       "2                        0.151501  \n",
       "3                        0.151501  \n",
       "4                        0.652311  \n",
       "\n",
       "[5 rows x 29 columns]"
      ]
     },
     "execution_count": 119,
     "metadata": {},
     "output_type": "execute_result"
    }
   ],
   "source": [
    "data.head()"
   ]
  },
  {
   "cell_type": "markdown",
   "id": "ca85865a",
   "metadata": {},
   "source": [
    "### FEATURE SELECTION"
   ]
  },
  {
   "cell_type": "markdown",
   "id": "e53dcf67",
   "metadata": {},
   "source": [
    "#### DROP UNIQUE AND CONTANT FEATURES"
   ]
  },
  {
   "cell_type": "code",
   "execution_count": 120,
   "id": "080c8dad",
   "metadata": {},
   "outputs": [],
   "source": [
    "# Dropping employee number because this is a constant column as well as drop Years Since Last Promotion because we create a new feaure using square root tr\n",
    "data.drop(['EmpNumber','YearsSinceLastPromotion'],axis=1,inplace=True)"
   ]
  },
  {
   "cell_type": "markdown",
   "id": "b8e044a3",
   "metadata": {},
   "source": [
    "#### CHECKING CORELATION\n",
    "**Heatmap:** A heatmap is a graphical representation of data that uses a system of color-coding to represent different values."
   ]
  },
  {
   "cell_type": "code",
   "execution_count": 121,
   "id": "d1466a99",
   "metadata": {},
   "outputs": [
    {
     "data": {
      "image/png": "[encoded data removed]",
      "text/plain": [
       "<Figure size 1440x1440 with 2 Axes>"
      ]
     },
     "metadata": {
      "needs_background": "light"
     },
     "output_type": "display_data"
    }
   ],
   "source": [
    "plt.figure(figsize=(20,20))\n",
    "sns.heatmap(data.corr(),annot=True,cmap='BuPu')\n",
    "plt.show()"
   ]
  },
  {
   "cell_type": "markdown",
   "id": "160c7295",
   "metadata": {},
   "source": [
    "* From above heatmap scale we are clearly seen the their is no highly correlated feature in data\n",
    "* But we confirm with the help of simple code"
   ]
  },
  {
   "cell_type": "code",
   "execution_count": 122,
   "id": "8565dc84",
   "metadata": {},
   "outputs": [
    {
     "data": {
      "text/html": [
       "<div>\n",
       "<style scoped>\n",
       "    .dataframe tbody tr th:only-of-type {\n",
       "        vertical-align: middle;\n",
       "    }\n",
       "\n",
       "    .dataframe tbody tr th {\n",
       "        vertical-align: top;\n",
       "    }\n",
       "\n",
       "    .dataframe thead th {\n",
       "        text-align: right;\n",
       "    }\n",
       "</style>\n",
       "<table border=\"1\" class=\"dataframe\">\n",
       "  <thead>\n",
       "    <tr style=\"text-align: right;\">\n",
       "      <th></th>\n",
       "      <th>feature1</th>\n",
       "      <th>feature2</th>\n",
       "      <th>corr</th>\n",
       "    </tr>\n",
       "  </thead>\n",
       "  <tbody>\n",
       "  </tbody>\n",
       "</table>\n",
       "</div>"
      ],
      "text/plain": [
       "Empty DataFrame\n",
       "Columns: [feature1, feature2, corr]\n",
       "Index: []"
      ]
     },
     "execution_count": 122,
     "metadata": {},
     "output_type": "execute_result"
    }
   ],
   "source": [
    "# To get highly corelated feature \n",
    "pd.set_option('display.max_rows',None)\n",
    "corrmat = data.corr()\n",
    "corrmat = corrmat.abs().unstack()\n",
    "corrmat = corrmat.sort_values(ascending=False)\n",
    "corrmat = corrmat [corrmat >= 0.9] # Set threshold 0.9\n",
    "corrmat = corrmat [corrmat < 1]\n",
    "corrmat = pd.DataFrame(corrmat).reset_index()\n",
    "corrmat.columns = ['feature1','feature2','corr']\n",
    "corrmat"
   ]
  },
  {
   "cell_type": "markdown",
   "id": "7dbfd6f8",
   "metadata": {},
   "source": [
    "* Now we confirm their is no highly correlated feature is present."
   ]
  },
  {
   "cell_type": "markdown",
   "id": "cd5420b6",
   "metadata": {},
   "source": [
    "#### CHECKING DUPLICATES"
   ]
  },
  {
   "cell_type": "code",
   "execution_count": 123,
   "id": "dae08457",
   "metadata": {},
   "outputs": [
    {
     "data": {
      "text/plain": [
       "0"
      ]
     },
     "execution_count": 123,
     "metadata": {},
     "output_type": "execute_result"
    }
   ],
   "source": [
    "data.duplicated().sum()"
   ]
  },
  {
   "cell_type": "markdown",
   "id": "1a8734c5",
   "metadata": {},
   "source": [
    "* Their is no Duplicates is present in data."
   ]
  },
  {
   "cell_type": "markdown",
   "id": "df3b9410",
   "metadata": {},
   "source": [
    "#### PRINCIPLE COMPONENT ANALYSIS"
   ]
  },
  {
   "cell_type": "markdown",
   "id": "044e6c11",
   "metadata": {},
   "source": [
    "* Principal component analysis (PCA) is a popular technique for analyzing large datasets containing a high number of dimensions/features per observation, increasing the interpretability of data while preserving the maximum amount of information, and enabling the visualization of multidimensional data. Formally, PCA is a statistical technique for reducing the dimensionality of a dataset."
   ]
  },
  {
   "cell_type": "markdown",
   "id": "c0b937a8",
   "metadata": {},
   "source": [
    "**Used For:** The dataset contain more than 25 feature, removes the noise in the data and keeps only the most important features in the dataset. That will mitigate the overfitting of the data and increase the model's performance."
   ]
  },
  {
   "cell_type": "code",
   "execution_count": 124,
   "id": "76f94782",
   "metadata": {},
   "outputs": [
    {
     "data": {
      "image/png": "[encoded data removed]",
      "text/plain": [
       "<Figure size 720x504 with 1 Axes>"
      ]
     },
     "metadata": {
      "needs_background": "light"
     },
     "output_type": "display_data"
    }
   ],
   "source": [
    "# Getting the optimal value of PCA\n",
    "from sklearn.decomposition import PCA\n",
    "\n",
    "# Object creation\n",
    "pca = PCA()\n",
    "\n",
    "principlecomponent = pca.fit_transform(data)\n",
    "plt.figure(figsize=(10,7))\n",
    "sns.set_style('darkgrid')\n",
    "plt.plot(np.cumsum(pca.explained_variance_ratio_),color='k')\n",
    "plt.xlabel('Number of components',fontsize=20)\n",
    "plt.ylabel('Variance(%)',fontsize=20) # for each componant\n",
    "plt.title('Explained Variance',fontsize=20)\n",
    "plt.show()"
   ]
  },
  {
   "cell_type": "markdown",
   "id": "69d4ea2b",
   "metadata": {},
   "source": [
    "**Observation:** Data is contain total 27 feature after dropping unique and constant column,from above PCA it shows the 25 feature has less varaince loss, so we are going to select 25 feature."
   ]
  },
  {
   "cell_type": "code",
   "execution_count": 125,
   "id": "e6c799a9",
   "metadata": {},
   "outputs": [
    {
     "data": {
      "text/plain": [
       "array([[-4.47979357e+00, -1.62579961e+00,  1.04815246e+00, ...,\n",
       "        -5.02890736e-01,  2.28337153e-01, -3.52744289e-01],\n",
       "       [-4.35607380e+00, -6.82890846e-02,  2.01617388e+00, ...,\n",
       "        -8.88367129e-01, -2.37235986e-01, -7.10042471e-01],\n",
       "       [-4.24318059e+00,  2.56096162e+00,  4.36307191e+00, ...,\n",
       "        -4.34724440e-01, -3.56723825e-01,  6.46996038e-01],\n",
       "       ...,\n",
       "       [ 1.64245087e+00, -1.73309807e+00,  3.13585566e+00, ...,\n",
       "        -1.70950647e-01,  3.39096853e-01,  1.12605457e+00],\n",
       "       [ 9.10590984e+00, -2.09875367e+00,  1.48314921e+00, ...,\n",
       "         6.10226389e-01,  1.08399769e-02, -2.99560396e-01],\n",
       "       [-4.36428097e+00,  5.98213577e+00, -2.10105411e+00, ...,\n",
       "         6.48347080e-01, -7.17937795e-03, -2.95697975e-02]])"
      ]
     },
     "execution_count": 125,
     "metadata": {},
     "output_type": "execute_result"
    }
   ],
   "source": [
    "# Selecting the components\n",
    "pca = PCA(n_components=25)\n",
    "new_data = pca.fit_transform(data)\n",
    "new_data"
   ]
  },
  {
   "cell_type": "markdown",
   "id": "7643e95a",
   "metadata": {},
   "source": [
    "#### CREATE NEW DATAFRAME"
   ]
  },
  {
   "cell_type": "code",
   "execution_count": 126,
   "id": "afbd57d2",
   "metadata": {},
   "outputs": [
    {
     "data": {
      "text/html": [
       "<div>\n",
       "<style scoped>\n",
       "    .dataframe tbody tr th:only-of-type {\n",
       "        vertical-align: middle;\n",
       "    }\n",
       "\n",
       "    .dataframe tbody tr th {\n",
       "        vertical-align: top;\n",
       "    }\n",
       "\n",
       "    .dataframe thead th {\n",
       "        text-align: right;\n",
       "    }\n",
       "</style>\n",
       "<table border=\"1\" class=\"dataframe\">\n",
       "  <thead>\n",
       "    <tr style=\"text-align: right;\">\n",
       "      <th></th>\n",
       "      <th>pca1</th>\n",
       "      <th>pca2</th>\n",
       "      <th>pca3</th>\n",
       "      <th>pca4</th>\n",
       "      <th>pca5</th>\n",
       "      <th>pca6</th>\n",
       "      <th>pca7</th>\n",
       "      <th>pca8</th>\n",
       "      <th>pca9</th>\n",
       "      <th>pca10</th>\n",
       "      <th>...</th>\n",
       "      <th>pca17</th>\n",
       "      <th>pca18</th>\n",
       "      <th>pca19</th>\n",
       "      <th>pca20</th>\n",
       "      <th>pca21</th>\n",
       "      <th>pca22</th>\n",
       "      <th>pca23</th>\n",
       "      <th>pca24</th>\n",
       "      <th>pca25</th>\n",
       "      <th>PerformanceRating</th>\n",
       "    </tr>\n",
       "  </thead>\n",
       "  <tbody>\n",
       "    <tr>\n",
       "      <th>0</th>\n",
       "      <td>-4.479794</td>\n",
       "      <td>-1.625800</td>\n",
       "      <td>1.048152</td>\n",
       "      <td>0.935689</td>\n",
       "      <td>-0.917397</td>\n",
       "      <td>1.027783</td>\n",
       "      <td>-0.831539</td>\n",
       "      <td>-1.471238</td>\n",
       "      <td>0.515184</td>\n",
       "      <td>0.449498</td>\n",
       "      <td>...</td>\n",
       "      <td>0.888525</td>\n",
       "      <td>0.099724</td>\n",
       "      <td>-0.470607</td>\n",
       "      <td>0.012552</td>\n",
       "      <td>0.192366</td>\n",
       "      <td>0.199055</td>\n",
       "      <td>-0.502891</td>\n",
       "      <td>0.228337</td>\n",
       "      <td>-0.352744</td>\n",
       "      <td>3</td>\n",
       "    </tr>\n",
       "    <tr>\n",
       "      <th>1</th>\n",
       "      <td>-4.356074</td>\n",
       "      <td>-0.068289</td>\n",
       "      <td>2.016174</td>\n",
       "      <td>1.516783</td>\n",
       "      <td>0.418864</td>\n",
       "      <td>-0.582535</td>\n",
       "      <td>-1.714894</td>\n",
       "      <td>0.026681</td>\n",
       "      <td>0.985278</td>\n",
       "      <td>0.830725</td>\n",
       "      <td>...</td>\n",
       "      <td>0.505885</td>\n",
       "      <td>-0.359134</td>\n",
       "      <td>0.420803</td>\n",
       "      <td>-0.929058</td>\n",
       "      <td>-0.495041</td>\n",
       "      <td>0.306019</td>\n",
       "      <td>-0.888367</td>\n",
       "      <td>-0.237236</td>\n",
       "      <td>-0.710042</td>\n",
       "      <td>3</td>\n",
       "    </tr>\n",
       "    <tr>\n",
       "      <th>2</th>\n",
       "      <td>-4.243181</td>\n",
       "      <td>2.560962</td>\n",
       "      <td>4.363072</td>\n",
       "      <td>-0.182532</td>\n",
       "      <td>-1.773880</td>\n",
       "      <td>-0.362873</td>\n",
       "      <td>-0.431528</td>\n",
       "      <td>1.308032</td>\n",
       "      <td>0.449781</td>\n",
       "      <td>1.957530</td>\n",
       "      <td>...</td>\n",
       "      <td>-0.624628</td>\n",
       "      <td>0.504683</td>\n",
       "      <td>0.559195</td>\n",
       "      <td>0.081618</td>\n",
       "      <td>-0.256092</td>\n",
       "      <td>-0.242872</td>\n",
       "      <td>-0.434724</td>\n",
       "      <td>-0.356724</td>\n",
       "      <td>0.646996</td>\n",
       "      <td>4</td>\n",
       "    </tr>\n",
       "    <tr>\n",
       "      <th>3</th>\n",
       "      <td>3.013748</td>\n",
       "      <td>0.725983</td>\n",
       "      <td>2.326672</td>\n",
       "      <td>3.288183</td>\n",
       "      <td>2.309574</td>\n",
       "      <td>1.909985</td>\n",
       "      <td>1.083119</td>\n",
       "      <td>-0.226786</td>\n",
       "      <td>-0.112988</td>\n",
       "      <td>-0.191132</td>\n",
       "      <td>...</td>\n",
       "      <td>-0.273501</td>\n",
       "      <td>0.891281</td>\n",
       "      <td>-1.533583</td>\n",
       "      <td>0.700066</td>\n",
       "      <td>0.113402</td>\n",
       "      <td>-0.186438</td>\n",
       "      <td>-0.566017</td>\n",
       "      <td>-0.066069</td>\n",
       "      <td>-0.500048</td>\n",
       "      <td>3</td>\n",
       "    </tr>\n",
       "    <tr>\n",
       "      <th>4</th>\n",
       "      <td>-4.246565</td>\n",
       "      <td>5.966600</td>\n",
       "      <td>-0.246302</td>\n",
       "      <td>0.789979</td>\n",
       "      <td>2.096761</td>\n",
       "      <td>-1.712339</td>\n",
       "      <td>0.769025</td>\n",
       "      <td>-0.516950</td>\n",
       "      <td>0.788577</td>\n",
       "      <td>1.125638</td>\n",
       "      <td>...</td>\n",
       "      <td>0.614179</td>\n",
       "      <td>-0.295793</td>\n",
       "      <td>0.970469</td>\n",
       "      <td>-1.179984</td>\n",
       "      <td>0.793859</td>\n",
       "      <td>-0.107046</td>\n",
       "      <td>-0.218167</td>\n",
       "      <td>0.456973</td>\n",
       "      <td>-0.147894</td>\n",
       "      <td>3</td>\n",
       "    </tr>\n",
       "  </tbody>\n",
       "</table>\n",
       "<p>5 rows × 26 columns</p>\n",
       "</div>"
      ],
      "text/plain": [
       "       pca1      pca2      pca3      pca4      pca5      pca6      pca7  \\\n",
       "0 -4.479794 -1.625800  1.048152  0.935689 -0.917397  1.027783 -0.831539   \n",
       "1 -4.356074 -0.068289  2.016174  1.516783  0.418864 -0.582535 -1.714894   \n",
       "2 -4.243181  2.560962  4.363072 -0.182532 -1.773880 -0.362873 -0.431528   \n",
       "3  3.013748  0.725983  2.326672  3.288183  2.309574  1.909985  1.083119   \n",
       "4 -4.246565  5.966600 -0.246302  0.789979  2.096761 -1.712339  0.769025   \n",
       "\n",
       "       pca8      pca9     pca10  ...     pca17     pca18     pca19     pca20  \\\n",
       "0 -1.471238  0.515184  0.449498  ...  0.888525  0.099724 -0.470607  0.012552   \n",
       "1  0.026681  0.985278  0.830725  ...  0.505885 -0.359134  0.420803 -0.929058   \n",
       "2  1.308032  0.449781  1.957530  ... -0.624628  0.504683  0.559195  0.081618   \n",
       "3 -0.226786 -0.112988 -0.191132  ... -0.273501  0.891281 -1.533583  0.700066   \n",
       "4 -0.516950  0.788577  1.125638  ...  0.614179 -0.295793  0.970469 -1.179984   \n",
       "\n",
       "      pca21     pca22     pca23     pca24     pca25  PerformanceRating  \n",
       "0  0.192366  0.199055 -0.502891  0.228337 -0.352744                  3  \n",
       "1 -0.495041  0.306019 -0.888367 -0.237236 -0.710042                  3  \n",
       "2 -0.256092 -0.242872 -0.434724 -0.356724  0.646996                  4  \n",
       "3  0.113402 -0.186438 -0.566017 -0.066069 -0.500048                  3  \n",
       "4  0.793859 -0.107046 -0.218167  0.456973 -0.147894                  3  \n",
       "\n",
       "[5 rows x 26 columns]"
      ]
     },
     "execution_count": 126,
     "metadata": {},
     "output_type": "execute_result"
    }
   ],
   "source": [
    "principle_df = pd.DataFrame(data=new_data,columns=['pca1','pca2','pca3','pca4','pca5','pca6','pca7','pca8','pca9','pca10',\n",
    "                            'pca11','pca12','pca13','pca14','pca15','pca16','pca17','pca18','pca19','pca20','pca21','pca22',\n",
    "                            'pca23','pca24','pca25'])\n",
    "\n",
    "# Add target veriable to preprocess dataframe for model building & evaluation\n",
    "principle_df['PerformanceRating']=data.PerformanceRating\n",
    "\n",
    "principle_df.head()"
   ]
  },
  {
   "cell_type": "markdown",
   "id": "c4d1f888",
   "metadata": {},
   "source": [
    "### SAVE PRE-PROCESS DATA"
   ]
  },
  {
   "cell_type": "code",
   "execution_count": 127,
   "id": "e9ca5fed",
   "metadata": {},
   "outputs": [
    {
     "data": {
      "text/html": [
       "<div>\n",
       "<style scoped>\n",
       "    .dataframe tbody tr th:only-of-type {\n",
       "        vertical-align: middle;\n",
       "    }\n",
       "\n",
       "    .dataframe tbody tr th {\n",
       "        vertical-align: top;\n",
       "    }\n",
       "\n",
       "    .dataframe thead th {\n",
       "        text-align: right;\n",
       "    }\n",
       "</style>\n",
       "<table border=\"1\" class=\"dataframe\">\n",
       "  <thead>\n",
       "    <tr style=\"text-align: right;\">\n",
       "      <th></th>\n",
       "      <th>Unnamed: 0</th>\n",
       "      <th>pca1</th>\n",
       "      <th>pca2</th>\n",
       "      <th>pca3</th>\n",
       "      <th>pca4</th>\n",
       "      <th>pca5</th>\n",
       "      <th>pca6</th>\n",
       "      <th>pca7</th>\n",
       "      <th>pca8</th>\n",
       "      <th>pca9</th>\n",
       "      <th>...</th>\n",
       "      <th>pca17</th>\n",
       "      <th>pca18</th>\n",
       "      <th>pca19</th>\n",
       "      <th>pca20</th>\n",
       "      <th>pca21</th>\n",
       "      <th>pca22</th>\n",
       "      <th>pca23</th>\n",
       "      <th>pca24</th>\n",
       "      <th>pca25</th>\n",
       "      <th>PerformanceRating</th>\n",
       "    </tr>\n",
       "  </thead>\n",
       "  <tbody>\n",
       "    <tr>\n",
       "      <th>0</th>\n",
       "      <td>0</td>\n",
       "      <td>-4.479794</td>\n",
       "      <td>-1.625800</td>\n",
       "      <td>1.048152</td>\n",
       "      <td>0.935689</td>\n",
       "      <td>-0.917397</td>\n",
       "      <td>1.027783</td>\n",
       "      <td>-0.831539</td>\n",
       "      <td>-1.471238</td>\n",
       "      <td>0.515184</td>\n",
       "      <td>...</td>\n",
       "      <td>0.888525</td>\n",
       "      <td>0.099724</td>\n",
       "      <td>-0.470607</td>\n",
       "      <td>0.012552</td>\n",
       "      <td>0.192366</td>\n",
       "      <td>0.199055</td>\n",
       "      <td>-0.502891</td>\n",
       "      <td>0.228337</td>\n",
       "      <td>-0.352744</td>\n",
       "      <td>3</td>\n",
       "    </tr>\n",
       "    <tr>\n",
       "      <th>1</th>\n",
       "      <td>1</td>\n",
       "      <td>-4.356074</td>\n",
       "      <td>-0.068289</td>\n",
       "      <td>2.016174</td>\n",
       "      <td>1.516783</td>\n",
       "      <td>0.418864</td>\n",
       "      <td>-0.582535</td>\n",
       "      <td>-1.714894</td>\n",
       "      <td>0.026681</td>\n",
       "      <td>0.985278</td>\n",
       "      <td>...</td>\n",
       "      <td>0.505885</td>\n",
       "      <td>-0.359134</td>\n",
       "      <td>0.420803</td>\n",
       "      <td>-0.929058</td>\n",
       "      <td>-0.495041</td>\n",
       "      <td>0.306019</td>\n",
       "      <td>-0.888367</td>\n",
       "      <td>-0.237236</td>\n",
       "      <td>-0.710042</td>\n",
       "      <td>3</td>\n",
       "    </tr>\n",
       "    <tr>\n",
       "      <th>2</th>\n",
       "      <td>2</td>\n",
       "      <td>-4.243181</td>\n",
       "      <td>2.560962</td>\n",
       "      <td>4.363072</td>\n",
       "      <td>-0.182532</td>\n",
       "      <td>-1.773880</td>\n",
       "      <td>-0.362873</td>\n",
       "      <td>-0.431528</td>\n",
       "      <td>1.308032</td>\n",
       "      <td>0.449781</td>\n",
       "      <td>...</td>\n",
       "      <td>-0.624628</td>\n",
       "      <td>0.504683</td>\n",
       "      <td>0.559195</td>\n",
       "      <td>0.081618</td>\n",
       "      <td>-0.256092</td>\n",
       "      <td>-0.242872</td>\n",
       "      <td>-0.434724</td>\n",
       "      <td>-0.356724</td>\n",
       "      <td>0.646996</td>\n",
       "      <td>4</td>\n",
       "    </tr>\n",
       "    <tr>\n",
       "      <th>3</th>\n",
       "      <td>3</td>\n",
       "      <td>3.013748</td>\n",
       "      <td>0.725983</td>\n",
       "      <td>2.326672</td>\n",
       "      <td>3.288183</td>\n",
       "      <td>2.309574</td>\n",
       "      <td>1.909985</td>\n",
       "      <td>1.083119</td>\n",
       "      <td>-0.226786</td>\n",
       "      <td>-0.112988</td>\n",
       "      <td>...</td>\n",
       "      <td>-0.273501</td>\n",
       "      <td>0.891281</td>\n",
       "      <td>-1.533583</td>\n",
       "      <td>0.700066</td>\n",
       "      <td>0.113402</td>\n",
       "      <td>-0.186438</td>\n",
       "      <td>-0.566017</td>\n",
       "      <td>-0.066069</td>\n",
       "      <td>-0.500048</td>\n",
       "      <td>3</td>\n",
       "    </tr>\n",
       "    <tr>\n",
       "      <th>4</th>\n",
       "      <td>4</td>\n",
       "      <td>-4.246565</td>\n",
       "      <td>5.966600</td>\n",
       "      <td>-0.246302</td>\n",
       "      <td>0.789979</td>\n",
       "      <td>2.096761</td>\n",
       "      <td>-1.712339</td>\n",
       "      <td>0.769025</td>\n",
       "      <td>-0.516950</td>\n",
       "      <td>0.788577</td>\n",
       "      <td>...</td>\n",
       "      <td>0.614179</td>\n",
       "      <td>-0.295793</td>\n",
       "      <td>0.970469</td>\n",
       "      <td>-1.179984</td>\n",
       "      <td>0.793859</td>\n",
       "      <td>-0.107046</td>\n",
       "      <td>-0.218167</td>\n",
       "      <td>0.456973</td>\n",
       "      <td>-0.147894</td>\n",
       "      <td>3</td>\n",
       "    </tr>\n",
       "  </tbody>\n",
       "</table>\n",
       "<p>5 rows × 27 columns</p>\n",
       "</div>"
      ],
      "text/plain": [
       "   Unnamed: 0      pca1      pca2      pca3      pca4      pca5      pca6  \\\n",
       "0           0 -4.479794 -1.625800  1.048152  0.935689 -0.917397  1.027783   \n",
       "1           1 -4.356074 -0.068289  2.016174  1.516783  0.418864 -0.582535   \n",
       "2           2 -4.243181  2.560962  4.363072 -0.182532 -1.773880 -0.362873   \n",
       "3           3  3.013748  0.725983  2.326672  3.288183  2.309574  1.909985   \n",
       "4           4 -4.246565  5.966600 -0.246302  0.789979  2.096761 -1.712339   \n",
       "\n",
       "       pca7      pca8      pca9  ...     pca17     pca18     pca19     pca20  \\\n",
       "0 -0.831539 -1.471238  0.515184  ...  0.888525  0.099724 -0.470607  0.012552   \n",
       "1 -1.714894  0.026681  0.985278  ...  0.505885 -0.359134  0.420803 -0.929058   \n",
       "2 -0.431528  1.308032  0.449781  ... -0.624628  0.504683  0.559195  0.081618   \n",
       "3  1.083119 -0.226786 -0.112988  ... -0.273501  0.891281 -1.533583  0.700066   \n",
       "4  0.769025 -0.516950  0.788577  ...  0.614179 -0.295793  0.970469 -1.179984   \n",
       "\n",
       "      pca21     pca22     pca23     pca24     pca25  PerformanceRating  \n",
       "0  0.192366  0.199055 -0.502891  0.228337 -0.352744                  3  \n",
       "1 -0.495041  0.306019 -0.888367 -0.237236 -0.710042                  3  \n",
       "2 -0.256092 -0.242872 -0.434724 -0.356724  0.646996                  4  \n",
       "3  0.113402 -0.186438 -0.566017 -0.066069 -0.500048                  3  \n",
       "4  0.793859 -0.107046 -0.218167  0.456973 -0.147894                  3  \n",
       "\n",
       "[5 rows x 27 columns]"
      ]
     },
     "execution_count": 127,
     "metadata": {},
     "output_type": "execute_result"
    }
   ],
   "source": [
    "principle_df.to_csv('employee_performance_analysis_preprocessed_data.csv')\n",
    "\n",
    "# Reading new preprocess csv file\n",
    "df = pd.read_csv('employee_performance_analysis_preprocessed_data.csv')\n",
    "\n",
    "# Get first five rows \n",
    "df.head()"
   ]
  }
 ],
 "metadata": {
  "kernelspec": {
   "display_name": "Python 3 (ipykernel)",
   "language": "python",
   "name": "python3"
  },
  "language_info": {
   "codemirror_mode": {
    "name": "ipython",
    "version": 3
   },
   "file_extension": ".py",
   "mimetype": "text/x-python",
   "name": "python",
   "nbconvert_exporter": "python",
   "pygments_lexer": "ipython3",
   "version": "3.9.7"
  }
 },
 "nbformat": 4,
 "nbformat_minor": 5
}
